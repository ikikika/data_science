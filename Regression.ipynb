{
  "nbformat": 4,
  "nbformat_minor": 0,
  "metadata": {
    "colab": {
      "name": "Regression.ipynb",
      "provenance": [],
      "toc_visible": true,
      "authorship_tag": "ABX9TyMcDfxkvGHl4L3xyiAmop+x",
      "include_colab_link": true
    },
    "kernelspec": {
      "name": "python3",
      "display_name": "Python 3"
    }
  },
  "cells": [
    {
      "cell_type": "markdown",
      "metadata": {
        "id": "view-in-github",
        "colab_type": "text"
      },
      "source": [
        "<a href=\"https://colab.research.google.com/github/ikikika/data_science/blob/ml_algorithms/Regression.ipynb\" target=\"_parent\"><img src=\"https://colab.research.google.com/assets/colab-badge.svg\" alt=\"Open In Colab\"/></a>"
      ]
    },
    {
      "cell_type": "markdown",
      "metadata": {
        "id": "jwhjVTrdddub",
        "colab_type": "text"
      },
      "source": [
        "# Regression\n",
        "Can be used when solution is a sliding scale problem. eg, price, temperature.\n",
        "Cannot be used for category problem. eg, is it a cat or a bottle? because there are no in between values between a cat and a bottle."
      ]
    },
    {
      "cell_type": "code",
      "metadata": {
        "id": "vFJJ2YuUYUa7",
        "colab_type": "code",
        "colab": {
          "base_uri": "https://localhost:8080/",
          "height": 204
        },
        "outputId": "dab8003b-935c-4ede-f990-be55a0314d6a"
      },
      "source": [
        "import pandas as pd\n",
        "dataset = pd.read_csv('fathersonheight.csv')\n",
        "dataset.head()"
      ],
      "execution_count": 2,
      "outputs": [
        {
          "output_type": "execute_result",
          "data": {
            "text/html": [
              "<div>\n",
              "<style scoped>\n",
              "    .dataframe tbody tr th:only-of-type {\n",
              "        vertical-align: middle;\n",
              "    }\n",
              "\n",
              "    .dataframe tbody tr th {\n",
              "        vertical-align: top;\n",
              "    }\n",
              "\n",
              "    .dataframe thead th {\n",
              "        text-align: right;\n",
              "    }\n",
              "</style>\n",
              "<table border=\"1\" class=\"dataframe\">\n",
              "  <thead>\n",
              "    <tr style=\"text-align: right;\">\n",
              "      <th></th>\n",
              "      <th>Father</th>\n",
              "      <th>Son</th>\n",
              "    </tr>\n",
              "  </thead>\n",
              "  <tbody>\n",
              "    <tr>\n",
              "      <th>0</th>\n",
              "      <td>65.0</td>\n",
              "      <td>59.8</td>\n",
              "    </tr>\n",
              "    <tr>\n",
              "      <th>1</th>\n",
              "      <td>63.3</td>\n",
              "      <td>63.2</td>\n",
              "    </tr>\n",
              "    <tr>\n",
              "      <th>2</th>\n",
              "      <td>65.0</td>\n",
              "      <td>63.3</td>\n",
              "    </tr>\n",
              "    <tr>\n",
              "      <th>3</th>\n",
              "      <td>65.8</td>\n",
              "      <td>62.8</td>\n",
              "    </tr>\n",
              "    <tr>\n",
              "      <th>4</th>\n",
              "      <td>61.1</td>\n",
              "      <td>64.3</td>\n",
              "    </tr>\n",
              "  </tbody>\n",
              "</table>\n",
              "</div>"
            ],
            "text/plain": [
              "   Father   Son\n",
              "0    65.0  59.8\n",
              "1    63.3  63.2\n",
              "2    65.0  63.3\n",
              "3    65.8  62.8\n",
              "4    61.1  64.3"
            ]
          },
          "metadata": {
            "tags": []
          },
          "execution_count": 2
        }
      ]
    },
    {
      "cell_type": "code",
      "metadata": {
        "id": "89J8Cx3qYoPM",
        "colab_type": "code",
        "colab": {
          "base_uri": "https://localhost:8080/",
          "height": 119
        },
        "outputId": "35b10338-7b0f-4674-d195-5479065a665b"
      },
      "source": [
        "x = dataset[\"Father\"].values.reshape(-1, 1)\n",
        "y = dataset[\"Son\"].values\n",
        "print(x[0:5])\n",
        "print(y[0:5])"
      ],
      "execution_count": 9,
      "outputs": [
        {
          "output_type": "stream",
          "text": [
            "[[65. ]\n",
            " [63.3]\n",
            " [65. ]\n",
            " [65.8]\n",
            " [61.1]]\n",
            "[59.8 63.2 63.3 62.8 64.3]\n"
          ],
          "name": "stdout"
        }
      ]
    },
    {
      "cell_type": "markdown",
      "metadata": {
        "id": "JqHpElDQZ7gr",
        "colab_type": "text"
      },
      "source": [
        "# Model 1: Linear Regression Model"
      ]
    },
    {
      "cell_type": "code",
      "metadata": {
        "id": "SgtHx3uuYzpI",
        "colab_type": "code",
        "colab": {
          "base_uri": "https://localhost:8080/",
          "height": 34
        },
        "outputId": "02536e3b-7b2f-4fab-a6ab-abd6ac6a897d"
      },
      "source": [
        "from sklearn.linear_model import LinearRegression\n",
        "\n",
        "lin_reg = LinearRegression()\n",
        "\n",
        "# Train linear regression model\n",
        "lin_reg.fit(x, y)"
      ],
      "execution_count": 10,
      "outputs": [
        {
          "output_type": "execute_result",
          "data": {
            "text/plain": [
              "LinearRegression(copy_X=True, fit_intercept=True, n_jobs=None, normalize=False)"
            ]
          },
          "metadata": {
            "tags": []
          },
          "execution_count": 10
        }
      ]
    },
    {
      "cell_type": "code",
      "metadata": {
        "id": "-b0z7gZ9ZeF8",
        "colab_type": "code",
        "colab": {
          "base_uri": "https://localhost:8080/",
          "height": 265
        },
        "outputId": "06d2bb26-dae9-4dca-9360-b3a86ab3b006"
      },
      "source": [
        "# Plot out model\n",
        "import matplotlib.pyplot as plt\n",
        "\n",
        "# Plot the data\n",
        "plt.scatter(x, y, color=\"blue\")\n",
        "# PLot the predicted linear regression line\n",
        "plt.plot(x, lin_reg.predict(x), color=\"red\", linewidth=4)\n",
        "plt.show()"
      ],
      "execution_count": 13,
      "outputs": [
        {
          "output_type": "display_data",
          "data": {
            "image/png": "[encoded data removed]",
            "text/plain": [
              "<Figure size 432x288 with 1 Axes>"
            ]
          },
          "metadata": {
            "tags": [],
            "needs_background": "light"
          }
        }
      ]
    },
    {
      "cell_type": "markdown",
      "metadata": {
        "id": "bo_6ZLZSa7wm",
        "colab_type": "text"
      },
      "source": [
        "# Model 2: Polynomial Regression"
      ]
    },
    {
      "cell_type": "code",
      "metadata": {
        "id": "8RY2xgf9a-99",
        "colab_type": "code",
        "colab": {
          "base_uri": "https://localhost:8080/",
          "height": 34
        },
        "outputId": "1a2cab31-d403-4f37-bd32-eebc3144e590"
      },
      "source": [
        "from sklearn.preprocessing import PolynomialFeatures\n",
        "\n",
        "poly = PolynomialFeatures(degree=4)\n",
        "# Keep on increasing the degree to see which works best on the dataset\n",
        "\n",
        "x_poly = poly.fit_transform(x)\n",
        "poly.fit(x_poly, y)\n",
        "\n",
        "# Train linear regression model on polynomial dataset\n",
        "lin_reg_poly = LinearRegression()\n",
        "lin_reg_poly.fit(x_poly, y)"
      ],
      "execution_count": 17,
      "outputs": [
        {
          "output_type": "execute_result",
          "data": {
            "text/plain": [
              "LinearRegression(copy_X=True, fit_intercept=True, n_jobs=None, normalize=False)"
            ]
          },
          "metadata": {
            "tags": []
          },
          "execution_count": 17
        }
      ]
    },
    {
      "cell_type": "code",
      "metadata": {
        "id": "2z_hQ33WbqSc",
        "colab_type": "code",
        "colab": {
          "base_uri": "https://localhost:8080/",
          "height": 265
        },
        "outputId": "a8a23440-c82b-499f-da2e-b61ef6959557"
      },
      "source": [
        "import matplotlib.pyplot as plt\n",
        "\n",
        "plt.scatter(x, y, color=\"blue\")\n",
        "plt.plot(x, lin_reg_poly.predict(poly.fit_transform(x)), color=\"red\", linewidth=4)\n",
        "plt.show()"
      ],
      "execution_count": 18,
      "outputs": [
        {
          "output_type": "display_data",
          "data": {
            "image/png": "[encoded data removed]",
            "text/plain": [
              "<Figure size 432x288 with 1 Axes>"
            ]
          },
          "metadata": {
            "tags": [],
            "needs_background": "light"
          }
        }
      ]
    }
  ]
}