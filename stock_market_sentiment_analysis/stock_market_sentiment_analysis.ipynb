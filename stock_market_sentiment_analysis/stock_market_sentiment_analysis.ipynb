{
  "nbformat": 4,
  "nbformat_minor": 0,
  "metadata": {
    "colab": {
      "name": "stock_market_sentiment_analysis.ipynb",
      "provenance": [],
      "authorship_tag": "ABX9TyMzkWBZucNqNf8Iq7K2Rbsq",
      "include_colab_link": true
    },
    "kernelspec": {
      "name": "python3",
      "display_name": "Python 3"
    }
  },
  "cells": [
    {
      "cell_type": "markdown",
      "metadata": {
        "id": "view-in-github",
        "colab_type": "text"
      },
      "source": [
        "<a href=\"https://colab.research.google.com/github/ikikika/data_science/blob/stock_market_sentiment_analysis/stock_market_sentiment_analysis/stock_market_sentiment_analysis.ipynb\" target=\"_parent\"><img src=\"https://colab.research.google.com/assets/colab-badge.svg\" alt=\"Open In Colab\"/></a>"
      ]
    },
    {
      "cell_type": "code",
      "metadata": {
        "id": "ApO_tIaZlhOI",
        "colab_type": "code",
        "colab": {}
      },
      "source": [
        "# Description: This program predicts if the stock price of a company will increase or decrease based on top news headlines"
      ],
      "execution_count": null,
      "outputs": []
    },
    {
      "cell_type": "code",
      "metadata": {
        "id": "l3qaDWYzlxKz",
        "colab_type": "code",
        "colab": {
          "base_uri": "https://localhost:8080/",
          "height": 207
        },
        "outputId": "2d79de2b-5993-4a1a-de57-5533bbb0d6ff"
      },
      "source": [
        "pip install vaderSentiment"
      ],
      "execution_count": 1,
      "outputs": [
        {
          "output_type": "stream",
          "text": [
            "Collecting vaderSentiment\n",
            "\u001b[?25l  Downloading https://files.pythonhosted.org/packages/76/fc/310e16254683c1ed35eeb97386986d6c00bc29df17ce280aed64d55537e9/vaderSentiment-3.3.2-py2.py3-none-any.whl (125kB)\n",
            "\r\u001b[K     |██▋                             | 10kB 17.3MB/s eta 0:00:01\r\u001b[K     |█████▏                          | 20kB 2.2MB/s eta 0:00:01\r\u001b[K     |███████▉                        | 30kB 2.9MB/s eta 0:00:01\r\u001b[K     |██████████▍                     | 40kB 3.1MB/s eta 0:00:01\r\u001b[K     |█████████████                   | 51kB 2.5MB/s eta 0:00:01\r\u001b[K     |███████████████▋                | 61kB 2.8MB/s eta 0:00:01\r\u001b[K     |██████████████████▏             | 71kB 3.1MB/s eta 0:00:01\r\u001b[K     |████████████████████▉           | 81kB 3.4MB/s eta 0:00:01\r\u001b[K     |███████████████████████▍        | 92kB 3.6MB/s eta 0:00:01\r\u001b[K     |██████████████████████████      | 102kB 3.5MB/s eta 0:00:01\r\u001b[K     |████████████████████████████▋   | 112kB 3.5MB/s eta 0:00:01\r\u001b[K     |███████████████████████████████▏| 122kB 3.5MB/s eta 0:00:01\r\u001b[K     |████████████████████████████████| 133kB 3.5MB/s \n",
            "\u001b[?25hRequirement already satisfied: requests in /usr/local/lib/python3.6/dist-packages (from vaderSentiment) (2.23.0)\n",
            "Requirement already satisfied: chardet<4,>=3.0.2 in /usr/local/lib/python3.6/dist-packages (from requests->vaderSentiment) (3.0.4)\n",
            "Requirement already satisfied: urllib3!=1.25.0,!=1.25.1,<1.26,>=1.21.1 in /usr/local/lib/python3.6/dist-packages (from requests->vaderSentiment) (1.24.3)\n",
            "Requirement already satisfied: idna<3,>=2.5 in /usr/local/lib/python3.6/dist-packages (from requests->vaderSentiment) (2.10)\n",
            "Requirement already satisfied: certifi>=2017.4.17 in /usr/local/lib/python3.6/dist-packages (from requests->vaderSentiment) (2020.6.20)\n",
            "Installing collected packages: vaderSentiment\n",
            "Successfully installed vaderSentiment-3.3.2\n"
          ],
          "name": "stdout"
        }
      ]
    },
    {
      "cell_type": "code",
      "metadata": {
        "id": "yej28aB1l8GQ",
        "colab_type": "code",
        "colab": {}
      },
      "source": [
        "# Import libraries\n",
        "import pandas as pd\n",
        "import numpy as np\n",
        "from textblob import TextBlob\n",
        "import re\n",
        "from vaderSentiment.vaderSentiment import SentimentIntensityAnalyzer\n",
        "from sklearn.model_selection import train_test_split\n",
        "from sklearn.metrics import accuracy_score, classification_report\n",
        "from sklearn.discriminant_analysis import LinearDiscriminantAnalysis"
      ],
      "execution_count": 2,
      "outputs": []
    },
    {
      "cell_type": "code",
      "metadata": {
        "id": "J5UmAs69neTp",
        "colab_type": "code",
        "colab": {}
      },
      "source": [
        "# Store data in variables\n",
        "df1 = pd.read_csv('https://raw.githubusercontent.com/ikikika/data_science/stock_market_sentiment_analysis/stock_market_sentiment_analysis/Combined_News_DJIA.csv')\n",
        "df2 = pd.read_csv('https://raw.githubusercontent.com/ikikika/data_science/stock_market_sentiment_analysis/stock_market_sentiment_analysis/upload_DJIA_table.csv')"
      ],
      "execution_count": 8,
      "outputs": []
    },
    {
      "cell_type": "code",
      "metadata": {
        "id": "TbQqcOIJorJI",
        "colab_type": "code",
        "colab": {}
      },
      "source": [
        "# Merge dataset on date field\n",
        "merge = df1.merge(df2, how='inner', on='Date', left_index=True)"
      ],
      "execution_count": 9,
      "outputs": []
    },
    {
      "cell_type": "code",
      "metadata": {
        "id": "x2B-nTu-pVbe",
        "colab_type": "code",
        "colab": {}
      },
      "source": [
        "# Combine top news headlines\n",
        "headlines = []\n",
        "for row in range(0, len(merge.index)):\n",
        "  headlines.append( ' '.join( str(x) for x in merge.iloc[row, 2:27] ) )"
      ],
      "execution_count": 11,
      "outputs": []
    },
    {
      "cell_type": "code",
      "metadata": {
        "id": "k7S_yNGKvI1l",
        "colab_type": "code",
        "colab": {}
      },
      "source": [
        "# Clean data\n",
        "clean_headlines = []\n",
        "\n",
        "for i in range(0, len(headlines)):\n",
        "  clean_headlines.append( re.sub(\"b[(')]\", '', headlines[i]) ) #removed b'\n",
        "  clean_headlines[i] = re.sub('b[(\")]', '', clean_headlines[i]) #remove b\"\n",
        "  clean_headlines[i] = re.sub(\"\\'\", '', clean_headlines[i]) #remove \\'"
      ],
      "execution_count": 13,
      "outputs": []
    },
    {
      "cell_type": "code",
      "metadata": {
        "id": "87U1Qnacv5CS",
        "colab_type": "code",
        "colab": {}
      },
      "source": [
        "# Add clean headlines to merge dataset\n",
        "\n",
        "merge['Combined_News'] = clean_headlines"
      ],
      "execution_count": 16,
      "outputs": []
    },
    {
      "cell_type": "code",
      "metadata": {
        "id": "30JLVuWHwAyV",
        "colab_type": "code",
        "colab": {}
      },
      "source": [
        "# Create function to get subjectivity\n",
        "\n",
        "def getSubjectivity(text):\n",
        "  return TextBlob(text).sentiment.subjectivity\n",
        "\n",
        "# Create function to get polarity\n",
        "\n",
        "def getPolarity(text):\n",
        "  return TextBlob(text).sentiment.polarity"
      ],
      "execution_count": 19,
      "outputs": []
    },
    {
      "cell_type": "code",
      "metadata": {
        "id": "xTxXrwGYwe9f",
        "colab_type": "code",
        "colab": {}
      },
      "source": [
        "# Create 2 columns 'Subjectivity' and 'Polarity'\n",
        "merge['Subjectivity'] = merge['Combined_News'].apply(getSubjectivity)\n",
        "merge['Polarity'] = merge['Combined_News'].apply(getPolarity)"
      ],
      "execution_count": 20,
      "outputs": []
    },
    {
      "cell_type": "code",
      "metadata": {
        "id": "P3KUm8dPxOWv",
        "colab_type": "code",
        "colab": {}
      },
      "source": [
        "# Create function to get sentiment scores\n",
        "def getSIA(text):\n",
        "  sia = SentimentIntensityAnalyzer()\n",
        "  sentiment = sia.polarity_scores(text)\n",
        "  return sentiment"
      ],
      "execution_count": 22,
      "outputs": []
    },
    {
      "cell_type": "code",
      "metadata": {
        "id": "WSph7SnXxcFU",
        "colab_type": "code",
        "colab": {}
      },
      "source": [
        "# Get sentiment scores for each day\n",
        "compound = []\n",
        "neg = []\n",
        "pos = []\n",
        "neu = []\n",
        "SIA = 0\n",
        "\n",
        "for i in range(0, len(merge['Combined_News'])):\n",
        "  SIA = getSIA(merge['Combined_News'][i])\n",
        "  compound.append(SIA['compound'])\n",
        "  neg.append(SIA['neg'])\n",
        "  neu.append(SIA['neu'])\n",
        "  pos.append(SIA['pos'])"
      ],
      "execution_count": 23,
      "outputs": []
    },
    {
      "cell_type": "code",
      "metadata": {
        "id": "27N5flWGzmn2",
        "colab_type": "code",
        "colab": {}
      },
      "source": [
        "# Store sentiment scores in merge dataset\n",
        "merge['Compound'] = compound\n",
        "merge['Negative'] = neg\n",
        "merge['Neutral'] = neu\n",
        "merge['Positive'] = pos"
      ],
      "execution_count": 24,
      "outputs": []
    },
    {
      "cell_type": "code",
      "metadata": {
        "id": "VzGCnxbC19gw",
        "colab_type": "code",
        "colab": {}
      },
      "source": [
        "# Create a list of columns to keep\n",
        "keep_columns = ['Open', 'High', 'Low', 'Volume', 'Subjectivity', 'Polarity', 'Compound', 'Negative', 'Positive', 'Label']\n",
        "df = merge[keep_columns]"
      ],
      "execution_count": 26,
      "outputs": []
    },
    {
      "cell_type": "code",
      "metadata": {
        "id": "BqlYghjC2cvJ",
        "colab_type": "code",
        "colab": {}
      },
      "source": [
        "# Create feature dataset\n",
        "X = df\n",
        "X = np.array(X.drop(['Label'], 1))\n",
        "\n",
        "# Create target dataset\n",
        "y = np.array(df['Label'])"
      ],
      "execution_count": 29,
      "outputs": []
    },
    {
      "cell_type": "code",
      "metadata": {
        "id": "Q2I9wC8K23nR",
        "colab_type": "code",
        "colab": {}
      },
      "source": [
        "# Split data into 80% train, 20% test\n",
        "x_train, x_test, y_train, y_test = train_test_split(X, y, test_size=0.2, random_state=0)"
      ],
      "execution_count": 31,
      "outputs": []
    },
    {
      "cell_type": "code",
      "metadata": {
        "id": "ijCcrtTT3H1r",
        "colab_type": "code",
        "colab": {}
      },
      "source": [
        "# Create and train the model\n",
        "model = LinearDiscriminantAnalysis().fit( x_train, y_train )"
      ],
      "execution_count": 32,
      "outputs": []
    },
    {
      "cell_type": "code",
      "metadata": {
        "id": "_7C33U7a3QU0",
        "colab_type": "code",
        "colab": {}
      },
      "source": [
        "# Show model's prediction\n",
        "predictions = model.predict(x_test)"
      ],
      "execution_count": 33,
      "outputs": []
    },
    {
      "cell_type": "code",
      "metadata": {
        "id": "9DCXg5xi3XUP",
        "colab_type": "code",
        "colab": {
          "base_uri": "https://localhost:8080/",
          "height": 170
        },
        "outputId": "643b51e1-de2d-447f-c70b-c5bab7abb76d"
      },
      "source": [
        "# Show model metrics\n",
        "print( classification_report(y_test, predictions) )"
      ],
      "execution_count": 35,
      "outputs": [
        {
          "output_type": "stream",
          "text": [
            "              precision    recall  f1-score   support\n",
            "\n",
            "           0       0.86      0.79      0.83       193\n",
            "           1       0.82      0.88      0.85       205\n",
            "\n",
            "    accuracy                           0.84       398\n",
            "   macro avg       0.84      0.84      0.84       398\n",
            "weighted avg       0.84      0.84      0.84       398\n",
            "\n"
          ],
          "name": "stdout"
        }
      ]
    }
  ]
}