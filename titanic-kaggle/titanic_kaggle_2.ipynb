{
  "nbformat": 4,
  "nbformat_minor": 0,
  "metadata": {
    "colab": {
      "name": "titanic_kaggle_2.ipynb",
      "provenance": [],
      "include_colab_link": true
    },
    "kernelspec": {
      "name": "python3",
      "display_name": "Python 3"
    }
  },
  "cells": [
    {
      "cell_type": "markdown",
      "metadata": {
        "id": "view-in-github",
        "colab_type": "text"
      },
      "source": [
        "<a href=\"https://colab.research.google.com/github/ikikika/data_science/blob/titanic-kaggle/titanic-kaggle/titanic_kaggle_2.ipynb\" target=\"_parent\"><img src=\"https://colab.research.google.com/assets/colab-badge.svg\" alt=\"Open In Colab\"/></a>"
      ]
    },
    {
      "cell_type": "markdown",
      "metadata": {
        "id": "lDMbgTJ9TXql",
        "colab_type": "text"
      },
      "source": [
        "# Define Problem\n",
        "Build a predictive model that answers the question: “what sorts of people were more likely to survive?” using passenger data (ie name, age, gender, socio-economic class, etc)."
      ]
    },
    {
      "cell_type": "markdown",
      "metadata": {
        "id": "-tXKZlfMTqj7",
        "colab_type": "text"
      },
      "source": [
        "## Import Dependencies"
      ]
    },
    {
      "cell_type": "code",
      "metadata": {
        "id": "wxalFp4gX4iw",
        "colab_type": "code",
        "colab": {
          "base_uri": "https://localhost:8080/",
          "height": 323
        },
        "outputId": "4f33f4cc-ffa3-49e9-8112-3531b238b23d"
      },
      "source": [
        "pip install catboost"
      ],
      "execution_count": 1,
      "outputs": [
        {
          "output_type": "stream",
          "text": [
            "Collecting catboost\n",
            "\u001b[?25l  Downloading https://files.pythonhosted.org/packages/b2/aa/e61819d04ef2bbee778bf4b3a748db1f3ad23512377e43ecfdc3211437a0/catboost-0.23.2-cp36-none-manylinux1_x86_64.whl (64.8MB)\n",
            "\u001b[K     |████████████████████████████████| 64.8MB 66kB/s \n",
            "\u001b[?25hRequirement already satisfied: matplotlib in /usr/local/lib/python3.6/dist-packages (from catboost) (3.2.2)\n",
            "Requirement already satisfied: pandas>=0.24.0 in /usr/local/lib/python3.6/dist-packages (from catboost) (1.0.5)\n",
            "Requirement already satisfied: graphviz in /usr/local/lib/python3.6/dist-packages (from catboost) (0.10.1)\n",
            "Requirement already satisfied: plotly in /usr/local/lib/python3.6/dist-packages (from catboost) (4.4.1)\n",
            "Requirement already satisfied: scipy in /usr/local/lib/python3.6/dist-packages (from catboost) (1.4.1)\n",
            "Requirement already satisfied: six in /usr/local/lib/python3.6/dist-packages (from catboost) (1.12.0)\n",
            "Requirement already satisfied: numpy>=1.16.0 in /usr/local/lib/python3.6/dist-packages (from catboost) (1.18.5)\n",
            "Requirement already satisfied: python-dateutil>=2.1 in /usr/local/lib/python3.6/dist-packages (from matplotlib->catboost) (2.8.1)\n",
            "Requirement already satisfied: kiwisolver>=1.0.1 in /usr/local/lib/python3.6/dist-packages (from matplotlib->catboost) (1.2.0)\n",
            "Requirement already satisfied: cycler>=0.10 in /usr/local/lib/python3.6/dist-packages (from matplotlib->catboost) (0.10.0)\n",
            "Requirement already satisfied: pyparsing!=2.0.4,!=2.1.2,!=2.1.6,>=2.0.1 in /usr/local/lib/python3.6/dist-packages (from matplotlib->catboost) (2.4.7)\n",
            "Requirement already satisfied: pytz>=2017.2 in /usr/local/lib/python3.6/dist-packages (from pandas>=0.24.0->catboost) (2018.9)\n",
            "Requirement already satisfied: retrying>=1.3.3 in /usr/local/lib/python3.6/dist-packages (from plotly->catboost) (1.3.3)\n",
            "Installing collected packages: catboost\n",
            "Successfully installed catboost-0.23.2\n"
          ],
          "name": "stdout"
        }
      ]
    },
    {
      "cell_type": "code",
      "metadata": {
        "id": "79XCwFWpTt5W",
        "colab_type": "code",
        "colab": {
          "base_uri": "https://localhost:8080/",
          "height": 51
        },
        "outputId": "0590cbb2-f9a4-497e-be56-26e630555fad"
      },
      "source": [
        "%matplotlib inline \n",
        "# Need to run this line to see the graphs\n",
        "\n",
        "# Start python imports\n",
        "import math, time, random, datetime\n",
        "\n",
        "# Data manipulation\n",
        "import numpy as np\n",
        "import pandas as pd\n",
        "\n",
        "# Visualisation\n",
        "import matplotlib.pyplot as plt\n",
        "import missingno\n",
        "import seaborn as sns\n",
        "plt.style.use('seaborn-whitegrid')\n",
        "\n",
        "# Preprocessing\n",
        "from sklearn.preprocessing import OneHotEncoder, LabelEncoder, label_binarize\n",
        "\n",
        "# Machine Learning\n",
        "import catboost\n",
        "from sklearn.model_selection import train_test_split\n",
        "from sklearn import model_selection, tree, preprocessing, metrics, linear_model\n",
        "from sklearn.svm import LinearSVC\n",
        "from sklearn.ensemble import GradientBoostingClassifier\n",
        "from sklearn.neighbors import KNeighborsClassifier\n",
        "from sklearn.naive_bayes import GaussianNB\n",
        "from sklearn.linear_model import LinearRegression, LogisticRegression, SGDClassifier\n",
        "from sklearn.tree import DecisionTreeClassifier\n",
        "from catboost import CatBoostClassifier, Pool, cv\n",
        "\n",
        "# Ignore warnings for now\n",
        "# import warnings\n",
        "# warnings.filterwarnings('ignore')"
      ],
      "execution_count": 2,
      "outputs": [
        {
          "output_type": "stream",
          "text": [
            "/usr/local/lib/python3.6/dist-packages/statsmodels/tools/_testing.py:19: FutureWarning: pandas.util.testing is deprecated. Use the functions in the public API at pandas.testing instead.\n",
            "  import pandas.util.testing as tm\n"
          ],
          "name": "stderr"
        }
      ]
    },
    {
      "cell_type": "markdown",
      "metadata": {
        "id": "sY8iMD3yThpk",
        "colab_type": "text"
      },
      "source": [
        "## Load the Data"
      ]
    },
    {
      "cell_type": "code",
      "metadata": {
        "id": "NptTAMFCP5ry",
        "colab_type": "code",
        "colab": {}
      },
      "source": [
        "import pandas as pd\n",
        "\n",
        "train = pd.read_csv('https://raw.githubusercontent.com/ikikika/data_science/titanic-kaggle/titanic-kaggle/train.csv')\n",
        "test = pd.read_csv('https://raw.githubusercontent.com/ikikika/data_science/titanic-kaggle/titanic-kaggle/test.csv')"
      ],
      "execution_count": 3,
      "outputs": []
    },
    {
      "cell_type": "markdown",
      "metadata": {
        "id": "I9HcStffbRhd",
        "colab_type": "text"
      },
      "source": [
        "### Find missing values"
      ]
    },
    {
      "cell_type": "code",
      "metadata": {
        "id": "tei1L2A_a_50",
        "colab_type": "code",
        "colab": {
          "base_uri": "https://localhost:8080/",
          "height": 340
        },
        "outputId": "aa75a8f0-bb8a-4bc5-d4ff-00db852e1bd3"
      },
      "source": [
        "train.info()\n",
        "# From here, we can see that 'Age', 'Cabin' and 'Embarked' has missing values"
      ],
      "execution_count": 4,
      "outputs": [
        {
          "output_type": "stream",
          "text": [
            "<class 'pandas.core.frame.DataFrame'>\n",
            "RangeIndex: 891 entries, 0 to 890\n",
            "Data columns (total 12 columns):\n",
            " #   Column       Non-Null Count  Dtype  \n",
            "---  ------       --------------  -----  \n",
            " 0   PassengerId  891 non-null    int64  \n",
            " 1   Survived     891 non-null    int64  \n",
            " 2   Pclass       891 non-null    int64  \n",
            " 3   Name         891 non-null    object \n",
            " 4   Sex          891 non-null    object \n",
            " 5   Age          714 non-null    float64\n",
            " 6   SibSp        891 non-null    int64  \n",
            " 7   Parch        891 non-null    int64  \n",
            " 8   Ticket       891 non-null    object \n",
            " 9   Fare         891 non-null    float64\n",
            " 10  Cabin        204 non-null    object \n",
            " 11  Embarked     889 non-null    object \n",
            "dtypes: float64(2), int64(5), object(5)\n",
            "memory usage: 83.7+ KB\n"
          ],
          "name": "stdout"
        }
      ]
    },
    {
      "cell_type": "code",
      "metadata": {
        "id": "n6-5PcQlbUXr",
        "colab_type": "code",
        "colab": {
          "base_uri": "https://localhost:8080/",
          "height": 409
        },
        "outputId": "639783de-8e57-4d82-b2bb-4798ca376f77"
      },
      "source": [
        "# Plot graphic of missing values\n",
        "missingno.matrix(train, figsize=(30,5))"
      ],
      "execution_count": 5,
      "outputs": [
        {
          "output_type": "execute_result",
          "data": {
            "text/plain": [
              "<matplotlib.axes._subplots.AxesSubplot at 0x7f3e81426d30>"
            ]
          },
          "metadata": {
            "tags": []
          },
          "execution_count": 5
        },
        {
          "output_type": "display_data",
          "data": {
            "image/png": "[encoded data removed]",
            "text/plain": [
              "<Figure size 2160x360 with 2 Axes>"
            ]
          },
          "metadata": {
            "tags": []
          }
        }
      ]
    },
    {
      "cell_type": "markdown",
      "metadata": {
        "id": "b2AwTrILbmIH",
        "colab_type": "text"
      },
      "source": [
        "This is another way of visualising missing data.\n",
        "\n",
        "This graph shows the position of the missing values, most of them are in the 'Age' and 'Cabin' columns."
      ]
    },
    {
      "cell_type": "code",
      "metadata": {
        "id": "7rXTE87Zby2N",
        "colab_type": "code",
        "colab": {
          "base_uri": "https://localhost:8080/",
          "height": 238
        },
        "outputId": "71bd7698-90c6-4b7d-836a-67a6ae1bfa9b"
      },
      "source": [
        "# Function to show how many missing values there are\n",
        "def find_missing_values(df, columns):\n",
        "  '''\n",
        "  Finds no of rows where certain columns are missing values\n",
        "  :: param df :: = target dataframe\n",
        "  :: param columns :: = list of columns\n",
        "  '''\n",
        "  missing_vals = {}\n",
        "  print('Number of missing or NaN values for each column: ')\n",
        "  df_length = len(df)\n",
        "  for col in columns:\n",
        "    total_column_values = df[col].value_counts().sum()\n",
        "    missing_vals[col] = df_length - total_column_values\n",
        "  return missing_vals\n",
        "\n",
        "find_missing_values(train, columns=train.columns)"
      ],
      "execution_count": 6,
      "outputs": [
        {
          "output_type": "stream",
          "text": [
            "Number of missing or NaN values for each column: \n"
          ],
          "name": "stdout"
        },
        {
          "output_type": "execute_result",
          "data": {
            "text/plain": [
              "{'Age': 177,\n",
              " 'Cabin': 687,\n",
              " 'Embarked': 2,\n",
              " 'Fare': 0,\n",
              " 'Name': 0,\n",
              " 'Parch': 0,\n",
              " 'PassengerId': 0,\n",
              " 'Pclass': 0,\n",
              " 'Sex': 0,\n",
              " 'SibSp': 0,\n",
              " 'Survived': 0,\n",
              " 'Ticket': 0}"
            ]
          },
          "metadata": {
            "tags": []
          },
          "execution_count": 6
        }
      ]
    },
    {
      "cell_type": "code",
      "metadata": {
        "id": "nDqcByxQhUjL",
        "colab_type": "code",
        "colab": {
          "base_uri": "https://localhost:8080/",
          "height": 238
        },
        "outputId": "53756d74-baa0-42aa-d1e4-a3dc1c8b868f"
      },
      "source": [
        "# In the video, he wrote the above function to get how many null objects in each column. This function will get the same info.\n",
        "train.isnull().sum()"
      ],
      "execution_count": 7,
      "outputs": [
        {
          "output_type": "execute_result",
          "data": {
            "text/plain": [
              "PassengerId      0\n",
              "Survived         0\n",
              "Pclass           0\n",
              "Name             0\n",
              "Sex              0\n",
              "Age            177\n",
              "SibSp            0\n",
              "Parch            0\n",
              "Ticket           0\n",
              "Fare             0\n",
              "Cabin          687\n",
              "Embarked         2\n",
              "dtype: int64"
            ]
          },
          "metadata": {
            "tags": []
          },
          "execution_count": 7
        }
      ]
    },
    {
      "cell_type": "markdown",
      "metadata": {
        "id": "BYCYVVR5gn4N",
        "colab_type": "text"
      },
      "source": [
        "## To perform data analysis, create 2 new dataframes\n",
        "Create 1 for exploring discretised continuous variables (continuous variables which can be sorted into some kind of category).\n",
        "* variables that cannot be defined using a sliding scale \n",
        "* variables that has to be categorised or divided into bins\n",
        "* these variables can be assigned numerical values, but only those assigned values have meaning. eg, if we assign red=1 and blue=2, 1 and 2 \n",
        "will have meaning but 1.5 will have no meaning. And also, 2 red (1+1) doesnt equal 1 blue (2).\n",
        "* eg, color, gender, locations\n",
        "\n",
        "Another for exploring continuous variables.\n",
        "* sliding scale values\n",
        "* if we have a scale from 0-100, continuous variables can take any value between 0-100, eg. 0.00001, 3.1415926535\n",
        "* eg, fare, age"
      ]
    },
    {
      "cell_type": "code",
      "metadata": {
        "id": "h2ebOD3HfFrm",
        "colab_type": "code",
        "colab": {}
      },
      "source": [
        "df_bin = pd.DataFrame() # for discretised continuous variables\n",
        "df_con = pd.DataFrame() # for continuous variables"
      ],
      "execution_count": 8,
      "outputs": []
    },
    {
      "cell_type": "markdown",
      "metadata": {
        "id": "JT9kXffxk4Hw",
        "colab_type": "text"
      },
      "source": [
        "### Explore each feature individually"
      ]
    },
    {
      "cell_type": "markdown",
      "metadata": {
        "id": "j8dKoegQk8iI",
        "colab_type": "text"
      },
      "source": [
        "#### Target feature: Survived\n",
        "Description:  whether the passenger survive or not\n",
        "\n",
        "Key: 0=dead, 1=survive.\n",
        "\n",
        "This is the variable we want our machine learning model to predict based off all the others."
      ]
    },
    {
      "cell_type": "code",
      "metadata": {
        "id": "mcPJJ57AlQ0l",
        "colab_type": "code",
        "colab": {
          "base_uri": "https://localhost:8080/",
          "height": 0
        },
        "outputId": "81ff864c-641e-451c-f808-88660b18a852"
      },
      "source": [
        "# How many people survived?\n",
        "fig = plt.figure( figsize=(20,1) )\n",
        "sns.countplot( y='Survived', data=train )\n",
        "print( train.Survived.value_counts() )\n",
        "# Tip: We see that more people didnt survive. If our prediction has more survivors, something is wrong."
      ],
      "execution_count": 9,
      "outputs": [
        {
          "output_type": "stream",
          "text": [
            "0    549\n",
            "1    342\n",
            "Name: Survived, dtype: int64\n"
          ],
          "name": "stdout"
        },
        {
          "output_type": "display_data",
          "data": {
            "image/png": "[encoded data removed]",
            "text/plain": [
              "<Figure size 1440x72 with 1 Axes>"
            ]
          },
          "metadata": {
            "tags": []
          }
        }
      ]
    },
    {
      "cell_type": "code",
      "metadata": {
        "id": "NZyTBxIpmSDi",
        "colab_type": "code",
        "colab": {}
      },
      "source": [
        "# Add Survived to our subset dataframes\n",
        "df_bin['Survived'] = train['Survived']\n",
        "df_con['Survived'] = train['Survived']"
      ],
      "execution_count": 10,
      "outputs": []
    },
    {
      "cell_type": "markdown",
      "metadata": {
        "id": "1CS3cFqommbp",
        "colab_type": "text"
      },
      "source": [
        "#### Feature: Pclass\n",
        "Description:  Ticket class of passenger\n",
        "\n",
        "Key: 1=1st, 2=2nd, 3=3rd\n",
        "\n",
        "Look at the distribution of each feature to see if we can understand what kind of spread there is across the dataset.\n",
        "\n",
        "For example, if there are values which are completely outside of the distribution, we may not want to include them in our model."
      ]
    },
    {
      "cell_type": "code",
      "metadata": {
        "id": "IQwKnYVbnEYm",
        "colab_type": "code",
        "colab": {
          "base_uri": "https://localhost:8080/",
          "height": 0
        },
        "outputId": "2113c161-f8c2-49ef-f09b-2eb6e2fb4132"
      },
      "source": [
        "sns.distplot(train.Pclass)"
      ],
      "execution_count": 11,
      "outputs": [
        {
          "output_type": "execute_result",
          "data": {
            "text/plain": [
              "<matplotlib.axes._subplots.AxesSubplot at 0x7f3e7eb838d0>"
            ]
          },
          "metadata": {
            "tags": []
          },
          "execution_count": 11
        },
        {
          "output_type": "display_data",
          "data": {
            "image/png": "[encoded data removed]",
            "text/plain": [
              "<Figure size 432x288 with 1 Axes>"
            ]
          },
          "metadata": {
            "tags": []
          }
        }
      ]
    },
    {
      "cell_type": "code",
      "metadata": {
        "id": "IaQFQqiPp15B",
        "colab_type": "code",
        "colab": {}
      },
      "source": [
        "# How many missing values does Pclass have?\n",
        "# missing_vals['Pclass']\n",
        "# or train['Pclass'].isnull().sum()"
      ],
      "execution_count": 12,
      "outputs": []
    },
    {
      "cell_type": "code",
      "metadata": {
        "id": "kOLmISvPqhlO",
        "colab_type": "code",
        "colab": {}
      },
      "source": [
        "# Since there are no missing values in Pclass, add to our subset dataframes\n",
        "df_bin['Pclass'] = train['Pclass']\n",
        "df_con['Pclass'] = train['Pclass']"
      ],
      "execution_count": 13,
      "outputs": []
    },
    {
      "cell_type": "code",
      "metadata": {
        "id": "9gSczEfgqtOT",
        "colab_type": "code",
        "colab": {
          "base_uri": "https://localhost:8080/",
          "height": 0
        },
        "outputId": "888a1f37-ff71-40d3-9aee-21549cc3fccc"
      },
      "source": [
        "df_bin.head()"
      ],
      "execution_count": 14,
      "outputs": [
        {
          "output_type": "execute_result",
          "data": {
            "text/html": [
              "<div>\n",
              "<style scoped>\n",
              "    .dataframe tbody tr th:only-of-type {\n",
              "        vertical-align: middle;\n",
              "    }\n",
              "\n",
              "    .dataframe tbody tr th {\n",
              "        vertical-align: top;\n",
              "    }\n",
              "\n",
              "    .dataframe thead th {\n",
              "        text-align: right;\n",
              "    }\n",
              "</style>\n",
              "<table border=\"1\" class=\"dataframe\">\n",
              "  <thead>\n",
              "    <tr style=\"text-align: right;\">\n",
              "      <th></th>\n",
              "      <th>Survived</th>\n",
              "      <th>Pclass</th>\n",
              "    </tr>\n",
              "  </thead>\n",
              "  <tbody>\n",
              "    <tr>\n",
              "      <th>0</th>\n",
              "      <td>0</td>\n",
              "      <td>3</td>\n",
              "    </tr>\n",
              "    <tr>\n",
              "      <th>1</th>\n",
              "      <td>1</td>\n",
              "      <td>1</td>\n",
              "    </tr>\n",
              "    <tr>\n",
              "      <th>2</th>\n",
              "      <td>1</td>\n",
              "      <td>3</td>\n",
              "    </tr>\n",
              "    <tr>\n",
              "      <th>3</th>\n",
              "      <td>1</td>\n",
              "      <td>1</td>\n",
              "    </tr>\n",
              "    <tr>\n",
              "      <th>4</th>\n",
              "      <td>0</td>\n",
              "      <td>3</td>\n",
              "    </tr>\n",
              "  </tbody>\n",
              "</table>\n",
              "</div>"
            ],
            "text/plain": [
              "   Survived  Pclass\n",
              "0         0       3\n",
              "1         1       1\n",
              "2         1       3\n",
              "3         1       1\n",
              "4         0       3"
            ]
          },
          "metadata": {
            "tags": []
          },
          "execution_count": 14
        }
      ]
    },
    {
      "cell_type": "markdown",
      "metadata": {
        "id": "kYHccJs0q0MP",
        "colab_type": "text"
      },
      "source": [
        "#### Feature: Name\n",
        "Description: Name of passenger"
      ]
    },
    {
      "cell_type": "code",
      "metadata": {
        "id": "wnqjjQosrE4k",
        "colab_type": "code",
        "colab": {
          "base_uri": "https://localhost:8080/",
          "height": 34
        },
        "outputId": "1884c966-b70a-4df0-c62e-6db10cc6dc35"
      },
      "source": [
        "len(train['Name'])\n",
        "# As each name in this dataset is unique, its not efficient for us to use this feature.\n",
        "# Think: Can we reduce the number of names?\n",
        "# Think: Can we correlate the name to survival rate? eg, people named jack are more likely to die than people named rose.\n",
        "# Think: Can we create new feature out of the names? Yes. We can extract the titles (Mr, Mrs, Miss) and form them into another feature (as seen in the other video). We wont do that here."
      ],
      "execution_count": 15,
      "outputs": [
        {
          "output_type": "execute_result",
          "data": {
            "text/plain": [
              "891"
            ]
          },
          "metadata": {
            "tags": []
          },
          "execution_count": 15
        }
      ]
    },
    {
      "cell_type": "markdown",
      "metadata": {
        "id": "7MDDKRXxr0os",
        "colab_type": "text"
      },
      "source": [
        "#### Feature: Sex\n",
        "Description: The gender of the passenger"
      ]
    },
    {
      "cell_type": "code",
      "metadata": {
        "id": "M0Iuny_WsD6x",
        "colab_type": "code",
        "colab": {
          "base_uri": "https://localhost:8080/",
          "height": 164
        },
        "outputId": "2340109f-2714-4e8d-94d3-3c015d875180"
      },
      "source": [
        "# View distribution of Sex\n",
        "fig = plt.figure( figsize=(20,1) )\n",
        "sns.countplot( y='Sex', data=train )\n",
        "print( train.Sex.value_counts() )"
      ],
      "execution_count": 16,
      "outputs": [
        {
          "output_type": "stream",
          "text": [
            "male      577\n",
            "female    314\n",
            "Name: Sex, dtype: int64\n"
          ],
          "name": "stdout"
        },
        {
          "output_type": "display_data",
          "data": {
            "image/png": "[encoded data removed]",
            "text/plain": [
              "<Figure size 1440x72 with 1 Axes>"
            ]
          },
          "metadata": {
            "tags": []
          }
        }
      ]
    },
    {
      "cell_type": "code",
      "metadata": {
        "id": "c7VXyy_-sWnY",
        "colab_type": "code",
        "colab": {}
      },
      "source": [
        "# Missing values for Sex?\n",
        "# missing_vals['Sex']"
      ],
      "execution_count": 17,
      "outputs": []
    },
    {
      "cell_type": "code",
      "metadata": {
        "id": "_6QZBWnfseG1",
        "colab_type": "code",
        "colab": {}
      },
      "source": [
        "# No missing values, we can add them to our subset dataframe.\n",
        "\n",
        "df_bin['Sex'] = train['Sex']\n",
        "\n",
        "# Convert the labels to numerical values (male=0, female=1)\n",
        "df_bin['Sex'] = np.where( df_bin['Sex'] == 'female', 1, 0 )\n",
        "\n",
        "df_con['Sex'] = train['Sex']\n",
        "df_con['Sex'] = np.where( df_con['Sex'] == 'female', 1, 0 )"
      ],
      "execution_count": 18,
      "outputs": []
    },
    {
      "cell_type": "code",
      "metadata": {
        "id": "jU9iC3aEtdkz",
        "colab_type": "code",
        "colab": {
          "base_uri": "https://localhost:8080/",
          "height": 204
        },
        "outputId": "50b45552-a3ca-4690-91f5-0710d091e3cc"
      },
      "source": [
        "df_con.head()"
      ],
      "execution_count": 19,
      "outputs": [
        {
          "output_type": "execute_result",
          "data": {
            "text/html": [
              "<div>\n",
              "<style scoped>\n",
              "    .dataframe tbody tr th:only-of-type {\n",
              "        vertical-align: middle;\n",
              "    }\n",
              "\n",
              "    .dataframe tbody tr th {\n",
              "        vertical-align: top;\n",
              "    }\n",
              "\n",
              "    .dataframe thead th {\n",
              "        text-align: right;\n",
              "    }\n",
              "</style>\n",
              "<table border=\"1\" class=\"dataframe\">\n",
              "  <thead>\n",
              "    <tr style=\"text-align: right;\">\n",
              "      <th></th>\n",
              "      <th>Survived</th>\n",
              "      <th>Pclass</th>\n",
              "      <th>Sex</th>\n",
              "    </tr>\n",
              "  </thead>\n",
              "  <tbody>\n",
              "    <tr>\n",
              "      <th>0</th>\n",
              "      <td>0</td>\n",
              "      <td>3</td>\n",
              "      <td>0</td>\n",
              "    </tr>\n",
              "    <tr>\n",
              "      <th>1</th>\n",
              "      <td>1</td>\n",
              "      <td>1</td>\n",
              "      <td>1</td>\n",
              "    </tr>\n",
              "    <tr>\n",
              "      <th>2</th>\n",
              "      <td>1</td>\n",
              "      <td>3</td>\n",
              "      <td>1</td>\n",
              "    </tr>\n",
              "    <tr>\n",
              "      <th>3</th>\n",
              "      <td>1</td>\n",
              "      <td>1</td>\n",
              "      <td>1</td>\n",
              "    </tr>\n",
              "    <tr>\n",
              "      <th>4</th>\n",
              "      <td>0</td>\n",
              "      <td>3</td>\n",
              "      <td>0</td>\n",
              "    </tr>\n",
              "  </tbody>\n",
              "</table>\n",
              "</div>"
            ],
            "text/plain": [
              "   Survived  Pclass  Sex\n",
              "0         0       3    0\n",
              "1         1       1    1\n",
              "2         1       3    1\n",
              "3         1       1    1\n",
              "4         0       3    0"
            ]
          },
          "metadata": {
            "tags": []
          },
          "execution_count": 19
        }
      ]
    },
    {
      "cell_type": "code",
      "metadata": {
        "id": "wNLVaV-Gtvjr",
        "colab_type": "code",
        "colab": {
          "base_uri": "https://localhost:8080/",
          "height": 619
        },
        "outputId": "e7af9610-6e67-4653-ab84-d30e8a20d65d"
      },
      "source": [
        "# Compare Sex with Survived\n",
        "fig = plt.figure( figsize=(10,10) )\n",
        "sns.distplot( df_bin.loc[ df_bin['Survived'] == 1 ]['Sex'], kde_kws={'label': 'Survived'} )\n",
        "sns.distplot( df_bin.loc[ df_bin['Survived'] == 0 ]['Sex'], kde_kws={'label': 'Dead'} )"
      ],
      "execution_count": 20,
      "outputs": [
        {
          "output_type": "execute_result",
          "data": {
            "text/plain": [
              "<matplotlib.axes._subplots.AxesSubplot at 0x7f3e7e59d978>"
            ]
          },
          "metadata": {
            "tags": []
          },
          "execution_count": 20
        },
        {
          "output_type": "display_data",
          "data": {
            "image/png": "[encoded data removed]",
            "text/plain": [
              "<Figure size 720x720 with 1 Axes>"
            ]
          },
          "metadata": {
            "tags": []
          }
        }
      ]
    },
    {
      "cell_type": "markdown",
      "metadata": {
        "id": "TSA9WxZnvPXQ",
        "colab_type": "text"
      },
      "source": [
        "Not many people survived. But those who did, most of them are females."
      ]
    },
    {
      "cell_type": "markdown",
      "metadata": {
        "id": "bkr2ivNmvWjL",
        "colab_type": "text"
      },
      "source": [
        "#### Feature: Age\n",
        "Description: Age of passenger"
      ]
    },
    {
      "cell_type": "code",
      "metadata": {
        "id": "l9vHCnJmvcI6",
        "colab_type": "code",
        "colab": {}
      },
      "source": [
        "# Missing values for Age?\n",
        "# missing_vals['Age']\n",
        "\n",
        "# 177 missing values for age\n",
        "# Think: How can we fill in the missing values?\n",
        "# For this exercise, we wont use this feature. \n",
        "# We did fill in the missing values for the other video."
      ],
      "execution_count": 21,
      "outputs": []
    },
    {
      "cell_type": "markdown",
      "metadata": {
        "id": "RNJ1mOw0oVdW",
        "colab_type": "text"
      },
      "source": [
        "Function to create count and distribution visualisations"
      ]
    },
    {
      "cell_type": "code",
      "metadata": {
        "id": "-d5VMK6UoZSA",
        "colab_type": "code",
        "colab": {}
      },
      "source": [
        "def plot_count_dist(data, bin_df, label_column, target_column, figsize=(20,5), use_bin_df=False):\n",
        "  if use_bin_df:\n",
        "    fig = plt.figure(figsize=figsize)\n",
        "    plt.subplot(1,2,1)\n",
        "    sns.countplot( y=target_column, data=bin_df )\n",
        "    plt.subplot(1,2,2)\n",
        "    sns.distplot( data.loc[ data[label_column] == 1 ][ target_column ], kde_kws={'label': 'Survived'} )\n",
        "    sns.distplot( data.loc[ data[label_column] == 0 ][ target_column ], kde_kws={'label': 'Dead'} )\n",
        "  else:\n",
        "    fig = plt.figure(figsize=figsize)\n",
        "    plt.subplot(1,2,1)\n",
        "    sns.countplot( y=target_column, data=data )\n",
        "    plt.subplot(1,2,2)\n",
        "    sns.distplot( data.loc[ data[label_column] == 1 ][ target_column ], kde_kws={'label': 'Survived'} )\n",
        "    sns.distplot( data.loc[ data[label_column] == 0 ][ target_column ], kde_kws={'label': 'Dead'} )"
      ],
      "execution_count": 22,
      "outputs": []
    },
    {
      "cell_type": "markdown",
      "metadata": {
        "id": "jXQ6lfSjwJ2H",
        "colab_type": "text"
      },
      "source": [
        "#### Feature: SibSp\n",
        "Description: The number of siblings/spouses the passenger has on board."
      ]
    },
    {
      "cell_type": "code",
      "metadata": {
        "id": "Jw_n9-BKwUA3",
        "colab_type": "code",
        "colab": {
          "base_uri": "https://localhost:8080/",
          "height": 34
        },
        "outputId": "e9ac243c-8831-49cf-c17a-b8e35e5d02ac"
      },
      "source": [
        "# Missing values for SibSp?\n",
        "# missing_vals['SibSp']\n",
        "train['SibSp'].isnull().sum()"
      ],
      "execution_count": 23,
      "outputs": [
        {
          "output_type": "execute_result",
          "data": {
            "text/plain": [
              "0"
            ]
          },
          "metadata": {
            "tags": []
          },
          "execution_count": 23
        }
      ]
    },
    {
      "cell_type": "code",
      "metadata": {
        "id": "ejSsODWlwde2",
        "colab_type": "code",
        "colab": {
          "base_uri": "https://localhost:8080/",
          "height": 153
        },
        "outputId": "63739a5f-c1b3-4384-869e-54396fcaf36f"
      },
      "source": [
        "# Value coutns for SibSp\n",
        "train.SibSp.value_counts()"
      ],
      "execution_count": 24,
      "outputs": [
        {
          "output_type": "execute_result",
          "data": {
            "text/plain": [
              "0    608\n",
              "1    209\n",
              "2     28\n",
              "4     18\n",
              "3     16\n",
              "8      7\n",
              "5      5\n",
              "Name: SibSp, dtype: int64"
            ]
          },
          "metadata": {
            "tags": []
          },
          "execution_count": 24
        }
      ]
    },
    {
      "cell_type": "code",
      "metadata": {
        "id": "yo6Hn4_YlSQ1",
        "colab_type": "code",
        "colab": {}
      },
      "source": [
        "# Add SibSp to subset dataframe.\n",
        "df_bin['SibSp'] = train['SibSp']\n",
        "df_con['SibSp'] = train['SibSp']"
      ],
      "execution_count": 25,
      "outputs": []
    },
    {
      "cell_type": "code",
      "metadata": {
        "id": "VAqe0B7Lpwga",
        "colab_type": "code",
        "colab": {
          "base_uri": "https://localhost:8080/",
          "height": 602
        },
        "outputId": "50cbca0b-ddc4-49a3-e59a-b9fe3fd4ab6b"
      },
      "source": [
        "plot_count_dist(train, df_bin, 'Survived', 'SibSp', (20,10))"
      ],
      "execution_count": 26,
      "outputs": [
        {
          "output_type": "display_data",
          "data": {
            "image/png": "[encoded data removed]",
            "text/plain": [
              "<Figure size 1440x720 with 2 Axes>"
            ]
          },
          "metadata": {
            "tags": []
          }
        }
      ]
    },
    {
      "cell_type": "markdown",
      "metadata": {
        "id": "EU38NYjpp87k",
        "colab_type": "text"
      },
      "source": [
        "From the graph on the left, we can see that passengers with 0 siblings or spouses on board are more likely to die.\n",
        "\n",
        "Passengers with 1 sibling or spouse on board are more likely to survive.\n",
        "\n",
        "Almsot equal chances of surviving or dying for the rest."
      ]
    },
    {
      "cell_type": "markdown",
      "metadata": {
        "id": "gNbBeHoRq-mx",
        "colab_type": "text"
      },
      "source": [
        "#### Feature: Parch\n",
        "Description: The number of parents/children the passenger has on board."
      ]
    },
    {
      "cell_type": "code",
      "metadata": {
        "id": "LX99cySErRH3",
        "colab_type": "code",
        "colab": {
          "base_uri": "https://localhost:8080/",
          "height": 34
        },
        "outputId": "a0127fe2-7496-4d0f-88a8-ad86d361d496"
      },
      "source": [
        "# Missing values?\n",
        "train['Parch'].isnull().sum()"
      ],
      "execution_count": 27,
      "outputs": [
        {
          "output_type": "execute_result",
          "data": {
            "text/plain": [
              "0"
            ]
          },
          "metadata": {
            "tags": []
          },
          "execution_count": 27
        }
      ]
    },
    {
      "cell_type": "code",
      "metadata": {
        "id": "c_ZcEXq2rckH",
        "colab_type": "code",
        "colab": {}
      },
      "source": [
        "# Add SibSp to subset dataframe.\n",
        "df_bin['Parch'] = train['Parch']\n",
        "df_con['Parch'] = train['Parch']"
      ],
      "execution_count": 28,
      "outputs": []
    },
    {
      "cell_type": "code",
      "metadata": {
        "id": "xXx6nxnQriTn",
        "colab_type": "code",
        "colab": {
          "base_uri": "https://localhost:8080/",
          "height": 602
        },
        "outputId": "e325da06-0597-41d7-f68f-d655809f431a"
      },
      "source": [
        "plot_count_dist(train, df_bin, 'Survived', 'Parch', (20,10))"
      ],
      "execution_count": 29,
      "outputs": [
        {
          "output_type": "display_data",
          "data": {
            "image/png": "[encoded data removed]",
            "text/plain": [
              "<Figure size 1440x720 with 2 Axes>"
            ]
          },
          "metadata": {
            "tags": []
          }
        }
      ]
    },
    {
      "cell_type": "markdown",
      "metadata": {
        "id": "Aqzb88DCro6Q",
        "colab_type": "text"
      },
      "source": [
        "Passengers with no parents/children on board are more likely to die.\n",
        "\n",
        "Passengers with 1 or more parents/children on board are more likely to survive."
      ]
    },
    {
      "cell_type": "markdown",
      "metadata": {
        "id": "lNw0u8IKr4Rr",
        "colab_type": "text"
      },
      "source": [
        "#### Feature: Ticket\n",
        "Description: The ticket number of the passenger."
      ]
    },
    {
      "cell_type": "code",
      "metadata": {
        "id": "llCIACfssSVu",
        "colab_type": "code",
        "colab": {
          "base_uri": "https://localhost:8080/",
          "height": 34
        },
        "outputId": "975d8b10-4aad-4a2d-ce7d-e31244f9cf9d"
      },
      "source": [
        "# Missing values?\n",
        "train['Ticket'].isnull().sum()"
      ],
      "execution_count": 30,
      "outputs": [
        {
          "output_type": "execute_result",
          "data": {
            "text/plain": [
              "0"
            ]
          },
          "metadata": {
            "tags": []
          },
          "execution_count": 30
        }
      ]
    },
    {
      "cell_type": "code",
      "metadata": {
        "id": "8IXi-Hpqsn4n",
        "colab_type": "code",
        "colab": {
          "base_uri": "https://localhost:8080/",
          "height": 221
        },
        "outputId": "610dbb99-0426-4ddf-88d5-896d37b12048"
      },
      "source": [
        "train['Ticket'].value_counts()"
      ],
      "execution_count": 31,
      "outputs": [
        {
          "output_type": "execute_result",
          "data": {
            "text/plain": [
              "1601           7\n",
              "CA. 2343       7\n",
              "347082         7\n",
              "3101295        6\n",
              "347088         6\n",
              "              ..\n",
              "SW/PP 751      1\n",
              "W./C. 14258    1\n",
              "28425          1\n",
              "2626           1\n",
              "345770         1\n",
              "Name: Ticket, Length: 681, dtype: int64"
            ]
          },
          "metadata": {
            "tags": []
          },
          "execution_count": 31
        }
      ]
    },
    {
      "cell_type": "markdown",
      "metadata": {
        "id": "ERzK3w9CstZ2",
        "colab_type": "text"
      },
      "source": [
        "681 unique ticket values.\n",
        "\n",
        "Too many unique values, hence we wont use this feature in our model.\n",
        "\n",
        "Think: Any way to reduce this number?"
      ]
    },
    {
      "cell_type": "markdown",
      "metadata": {
        "id": "kXTo4-wAtaAn",
        "colab_type": "text"
      },
      "source": [
        "#### Feature: Fare\n",
        "Description: How much the ticket cost?"
      ]
    },
    {
      "cell_type": "code",
      "metadata": {
        "id": "fkW-GKQ6tgrX",
        "colab_type": "code",
        "colab": {
          "base_uri": "https://localhost:8080/",
          "height": 34
        },
        "outputId": "8a6881ef-e924-44cd-bc80-eb846433d0dd"
      },
      "source": [
        "# Missing values?\n",
        "train['Fare'].isnull().sum()"
      ],
      "execution_count": 32,
      "outputs": [
        {
          "output_type": "execute_result",
          "data": {
            "text/plain": [
              "0"
            ]
          },
          "metadata": {
            "tags": []
          },
          "execution_count": 32
        }
      ]
    },
    {
      "cell_type": "code",
      "metadata": {
        "id": "_wBAekYNtkR6",
        "colab_type": "code",
        "colab": {
          "base_uri": "https://localhost:8080/",
          "height": 221
        },
        "outputId": "62ecc298-49d9-406a-ba69-40c6cb404583"
      },
      "source": [
        "# How many different values of Fare are there?\n",
        "train['Fare'].value_counts()"
      ],
      "execution_count": 33,
      "outputs": [
        {
          "output_type": "execute_result",
          "data": {
            "text/plain": [
              "8.0500     43\n",
              "13.0000    42\n",
              "7.8958     38\n",
              "7.7500     34\n",
              "26.0000    31\n",
              "           ..\n",
              "8.4583      1\n",
              "9.8375      1\n",
              "8.3625      1\n",
              "14.1083     1\n",
              "17.4000     1\n",
              "Name: Fare, Length: 248, dtype: int64"
            ]
          },
          "metadata": {
            "tags": []
          },
          "execution_count": 33
        }
      ]
    },
    {
      "cell_type": "markdown",
      "metadata": {
        "id": "6ynDgHvet4x-",
        "colab_type": "text"
      },
      "source": [
        "Because Fare is a float (decimal number) and is a continuous variable, we can add to continuous sub dataframe.\n",
        "\n",
        "To add to categorical sub dataframe, divide it into bins."
      ]
    },
    {
      "cell_type": "code",
      "metadata": {
        "id": "2_zHxA-ouMrU",
        "colab_type": "code",
        "colab": {}
      },
      "source": [
        "df_con['Fare'] = train['Fare']\n",
        "df_bin['Fare'] = pd.cut(train['Fare'], bins=5) #discretised"
      ],
      "execution_count": 34,
      "outputs": []
    },
    {
      "cell_type": "code",
      "metadata": {
        "id": "HXZ3G59hvAoA",
        "colab_type": "code",
        "colab": {
          "base_uri": "https://localhost:8080/",
          "height": 119
        },
        "outputId": "f5aafd59-41fd-4773-9dc8-c23be8483c0d"
      },
      "source": [
        "df_bin.Fare.value_counts()\n",
        "# 5 bins"
      ],
      "execution_count": 35,
      "outputs": [
        {
          "output_type": "execute_result",
          "data": {
            "text/plain": [
              "(-0.512, 102.466]     838\n",
              "(102.466, 204.932]     33\n",
              "(204.932, 307.398]     17\n",
              "(409.863, 512.329]      3\n",
              "(307.398, 409.863]      0\n",
              "Name: Fare, dtype: int64"
            ]
          },
          "metadata": {
            "tags": []
          },
          "execution_count": 35
        }
      ]
    },
    {
      "cell_type": "code",
      "metadata": {
        "id": "6pNIZEbauj8A",
        "colab_type": "code",
        "colab": {
          "base_uri": "https://localhost:8080/",
          "height": 602
        },
        "outputId": "445e2cae-3317-4580-8154-9d06f7b463f0"
      },
      "source": [
        "plot_count_dist(train, df_bin, 'Survived', 'Fare', (20,10), True)"
      ],
      "execution_count": 36,
      "outputs": [
        {
          "output_type": "display_data",
          "data": {
            "image/png": "[encoded data removed]",
            "text/plain": [
              "<Figure size 1440x720 with 2 Axes>"
            ]
          },
          "metadata": {
            "tags": []
          }
        }
      ]
    },
    {
      "cell_type": "markdown",
      "metadata": {
        "id": "RUfcFWEqvW4R",
        "colab_type": "text"
      },
      "source": [
        "Passengers who pay more are more likely to survive."
      ]
    },
    {
      "cell_type": "markdown",
      "metadata": {
        "id": "iXFU_EBYverT",
        "colab_type": "text"
      },
      "source": [
        "#### Feature: Cabin\n",
        "Description: The cabin number where the passenger is staying"
      ]
    },
    {
      "cell_type": "code",
      "metadata": {
        "id": "ZkWXPeaavj8O",
        "colab_type": "code",
        "colab": {
          "base_uri": "https://localhost:8080/",
          "height": 34
        },
        "outputId": "34d48c3a-fe69-48eb-a280-a6b8deb16580"
      },
      "source": [
        "train['Cabin'].isnull().sum()"
      ],
      "execution_count": 37,
      "outputs": [
        {
          "output_type": "execute_result",
          "data": {
            "text/plain": [
              "687"
            ]
          },
          "metadata": {
            "tags": []
          },
          "execution_count": 37
        }
      ]
    },
    {
      "cell_type": "code",
      "metadata": {
        "id": "JMMQFaEW5njp",
        "colab_type": "code",
        "colab": {
          "base_uri": "https://localhost:8080/",
          "height": 221
        },
        "outputId": "c7078775-6ab9-4c69-ad60-5380d0028126"
      },
      "source": [
        "train['Cabin'].value_counts()"
      ],
      "execution_count": 39,
      "outputs": [
        {
          "output_type": "execute_result",
          "data": {
            "text/plain": [
              "B96 B98        4\n",
              "G6             4\n",
              "C23 C25 C27    4\n",
              "C22 C26        3\n",
              "E101           3\n",
              "              ..\n",
              "A16            1\n",
              "F38            1\n",
              "B80            1\n",
              "B39            1\n",
              "D56            1\n",
              "Name: Cabin, Length: 147, dtype: int64"
            ]
          },
          "metadata": {
            "tags": []
          },
          "execution_count": 39
        }
      ]
    },
    {
      "cell_type": "markdown",
      "metadata": {
        "id": "4XBaKpuj5rSW",
        "colab_type": "text"
      },
      "source": [
        "Too many unique values and too many missing values for cabin.\n",
        "\n",
        "Hence we wont use it."
      ]
    },
    {
      "cell_type": "markdown",
      "metadata": {
        "id": "9_hxDTFRIMKV",
        "colab_type": "text"
      },
      "source": [
        "#### Feature: Embarked\n",
        "Description: The port where the passenger embarked\n",
        "\n",
        "Key: C = Cherbourg, Q = Queenstoen, S = Southampton\n"
      ]
    },
    {
      "cell_type": "code",
      "metadata": {
        "id": "S-b4vcboIcjO",
        "colab_type": "code",
        "colab": {
          "base_uri": "https://localhost:8080/",
          "height": 34
        },
        "outputId": "9c5c9e4c-e8d7-479e-bfec-db73585a0760"
      },
      "source": [
        "# Missing values?\n",
        "train['Embarked'].isnull().sum()"
      ],
      "execution_count": 40,
      "outputs": [
        {
          "output_type": "execute_result",
          "data": {
            "text/plain": [
              "2"
            ]
          },
          "metadata": {
            "tags": []
          },
          "execution_count": 40
        }
      ]
    },
    {
      "cell_type": "code",
      "metadata": {
        "id": "OwHg1ZDoI1Yg",
        "colab_type": "code",
        "colab": {
          "base_uri": "https://localhost:8080/",
          "height": 85
        },
        "outputId": "6c421cce-4ce9-46fb-a837-84bf9803eb91"
      },
      "source": [
        "# What kind of values are in Embarked?\n",
        "train['Embarked'].value_counts()"
      ],
      "execution_count": 42,
      "outputs": [
        {
          "output_type": "execute_result",
          "data": {
            "text/plain": [
              "S    644\n",
              "C    168\n",
              "Q     77\n",
              "Name: Embarked, dtype: int64"
            ]
          },
          "metadata": {
            "tags": []
          },
          "execution_count": 42
        }
      ]
    },
    {
      "cell_type": "markdown",
      "metadata": {
        "id": "q1iIbCFiJLkf",
        "colab_type": "text"
      },
      "source": [
        "Embarked is a vategorical variable because there are 3 categories where a passenger could have boarded on"
      ]
    },
    {
      "cell_type": "code",
      "metadata": {
        "id": "h5RQH05SJCgN",
        "colab_type": "code",
        "colab": {
          "base_uri": "https://localhost:8080/",
          "height": 293
        },
        "outputId": "1eabba4c-929f-4988-df9e-c529b2c7c848"
      },
      "source": [
        "sns.countplot( y='Embarked', data=train)"
      ],
      "execution_count": 43,
      "outputs": [
        {
          "output_type": "execute_result",
          "data": {
            "text/plain": [
              "<matplotlib.axes._subplots.AxesSubplot at 0x7f3e7dd9c2b0>"
            ]
          },
          "metadata": {
            "tags": []
          },
          "execution_count": 43
        },
        {
          "output_type": "display_data",
          "data": {
            "image/png": "[encoded data removed]",
            "text/plain": [
              "<Figure size 432x288 with 1 Axes>"
            ]
          },
          "metadata": {
            "tags": []
          }
        }
      ]
    },
    {
      "cell_type": "markdown",
      "metadata": {
        "id": "vsj8jRMyJbSw",
        "colab_type": "text"
      },
      "source": [
        "**How can we deal with the 2 missing values of Embarked?**\n",
        "\n",
        "One option is to remove the 2 rows.\n",
        "\n",
        "Another option is to randomly assign a value of C, S or Q.\n",
        "\n",
        "Think: pros and cons of each method?\n",
        "\n",
        "Think: any other way to fill in the values?\n",
        "\n",
        "For now, we will drop the 2 rows."
      ]
    },
    {
      "cell_type": "code",
      "metadata": {
        "id": "N4vJ5rw4Jzzp",
        "colab_type": "code",
        "colab": {}
      },
      "source": [
        "# Add Embarked to sub dataframes\n",
        "df_bin['Embarked'] = train['Embarked']\n",
        "df_con['Embarked'] = train['Embarked']"
      ],
      "execution_count": 44,
      "outputs": []
    },
    {
      "cell_type": "code",
      "metadata": {
        "id": "Hn0Ii5gYJ9Sz",
        "colab_type": "code",
        "colab": {
          "base_uri": "https://localhost:8080/",
          "height": 51
        },
        "outputId": "43370548-54ca-4624-d06c-9129efdcf217"
      },
      "source": [
        "# Remove rows where Embarked is null\n",
        "print( len(df_con) )\n",
        "df_con = df_con.dropna( subset = ['Embarked'] )\n",
        "df_bin = df_bin.dropna( subset = ['Embarked'] )\n",
        "print( len(df_con) )"
      ],
      "execution_count": 46,
      "outputs": [
        {
          "output_type": "stream",
          "text": [
            "891\n",
            "889\n"
          ],
          "name": "stdout"
        }
      ]
    }
  ]
}