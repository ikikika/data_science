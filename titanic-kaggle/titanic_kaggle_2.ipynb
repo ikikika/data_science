{
  "nbformat": 4,
  "nbformat_minor": 0,
  "metadata": {
    "colab": {
      "name": "titanic_kaggle_2.ipynb",
      "provenance": [],
      "include_colab_link": true
    },
    "kernelspec": {
      "name": "python3",
      "display_name": "Python 3"
    }
  },
  "cells": [
    {
      "cell_type": "markdown",
      "metadata": {
        "id": "view-in-github",
        "colab_type": "text"
      },
      "source": [
        "<a href=\"https://colab.research.google.com/github/ikikika/data_science/blob/titanic-kaggle/titanic-kaggle/titanic_kaggle_2.ipynb\" target=\"_parent\"><img src=\"https://colab.research.google.com/assets/colab-badge.svg\" alt=\"Open In Colab\"/></a>"
      ]
    },
    {
      "cell_type": "markdown",
      "metadata": {
        "id": "lDMbgTJ9TXql",
        "colab_type": "text"
      },
      "source": [
        "# Define Problem\n",
        "Build a predictive model that answers the question: “what sorts of people were more likely to survive?” using passenger data (ie name, age, gender, socio-economic class, etc)."
      ]
    },
    {
      "cell_type": "markdown",
      "metadata": {
        "id": "-tXKZlfMTqj7",
        "colab_type": "text"
      },
      "source": [
        "## Import Dependencies"
      ]
    },
    {
      "cell_type": "code",
      "metadata": {
        "id": "wxalFp4gX4iw",
        "colab_type": "code",
        "colab": {
          "base_uri": "https://localhost:8080/",
          "height": 255
        },
        "outputId": "44e2f4aa-2157-4c78-9b0a-64459936ee54"
      },
      "source": [
        "pip install catboost"
      ],
      "execution_count": 20,
      "outputs": [
        {
          "output_type": "stream",
          "text": [
            "Requirement already satisfied: catboost in /usr/local/lib/python3.6/dist-packages (0.23.2)\n",
            "Requirement already satisfied: pandas>=0.24.0 in /usr/local/lib/python3.6/dist-packages (from catboost) (1.0.5)\n",
            "Requirement already satisfied: six in /usr/local/lib/python3.6/dist-packages (from catboost) (1.12.0)\n",
            "Requirement already satisfied: numpy>=1.16.0 in /usr/local/lib/python3.6/dist-packages (from catboost) (1.18.5)\n",
            "Requirement already satisfied: graphviz in /usr/local/lib/python3.6/dist-packages (from catboost) (0.10.1)\n",
            "Requirement already satisfied: plotly in /usr/local/lib/python3.6/dist-packages (from catboost) (4.4.1)\n",
            "Requirement already satisfied: matplotlib in /usr/local/lib/python3.6/dist-packages (from catboost) (3.2.2)\n",
            "Requirement already satisfied: scipy in /usr/local/lib/python3.6/dist-packages (from catboost) (1.4.1)\n",
            "Requirement already satisfied: python-dateutil>=2.6.1 in /usr/local/lib/python3.6/dist-packages (from pandas>=0.24.0->catboost) (2.8.1)\n",
            "Requirement already satisfied: pytz>=2017.2 in /usr/local/lib/python3.6/dist-packages (from pandas>=0.24.0->catboost) (2018.9)\n",
            "Requirement already satisfied: retrying>=1.3.3 in /usr/local/lib/python3.6/dist-packages (from plotly->catboost) (1.3.3)\n",
            "Requirement already satisfied: cycler>=0.10 in /usr/local/lib/python3.6/dist-packages (from matplotlib->catboost) (0.10.0)\n",
            "Requirement already satisfied: pyparsing!=2.0.4,!=2.1.2,!=2.1.6,>=2.0.1 in /usr/local/lib/python3.6/dist-packages (from matplotlib->catboost) (2.4.7)\n",
            "Requirement already satisfied: kiwisolver>=1.0.1 in /usr/local/lib/python3.6/dist-packages (from matplotlib->catboost) (1.2.0)\n"
          ],
          "name": "stdout"
        }
      ]
    },
    {
      "cell_type": "code",
      "metadata": {
        "id": "79XCwFWpTt5W",
        "colab_type": "code",
        "colab": {}
      },
      "source": [
        "%matplotlib inline \n",
        "# Need to run this line to see the graphs\n",
        "\n",
        "# Start python imports\n",
        "import math, time, random, datetime\n",
        "\n",
        "# Data manipulation\n",
        "import numpy as np\n",
        "import pandas as pd\n",
        "\n",
        "# Visualisation\n",
        "import matplotlib.pyplot as plt\n",
        "import missingno\n",
        "import seaborn as sns\n",
        "plt.style.use('seaborn-whitegrid')\n",
        "\n",
        "# Preprocessing\n",
        "from sklearn.preprocessing import OneHotEncoder, LabelEncoder, label_binarize\n",
        "\n",
        "# Machine Learning\n",
        "import catboost\n",
        "from sklearn.model_selection import train_test_split\n",
        "from sklearn import model_selection, tree, preprocessing, metrics, linear_model\n",
        "from sklearn.svm import LinearSVC\n",
        "from sklearn.ensemble import GradientBoostingClassifier\n",
        "from sklearn.neighbors import KNeighborsClassifier\n",
        "from sklearn.naive_bayes import GaussianNB\n",
        "from sklearn.linear_model import LinearRegression, LogisticRegression, SGDClassifier\n",
        "from sklearn.tree import DecisionTreeClassifier\n",
        "from catboost import CatBoostClassifier, Pool, cv\n",
        "\n",
        "# Ignore warnings for now\n",
        "# import warnings\n",
        "# warnings.filterwarnings('ignore')"
      ],
      "execution_count": 21,
      "outputs": []
    },
    {
      "cell_type": "markdown",
      "metadata": {
        "id": "sY8iMD3yThpk",
        "colab_type": "text"
      },
      "source": [
        "## Load the Data"
      ]
    },
    {
      "cell_type": "code",
      "metadata": {
        "id": "NptTAMFCP5ry",
        "colab_type": "code",
        "colab": {}
      },
      "source": [
        "import pandas as pd\n",
        "\n",
        "train = pd.read_csv('https://raw.githubusercontent.com/ikikika/data_science/titanic-kaggle/titanic-kaggle/train.csv')\n",
        "test = pd.read_csv('https://raw.githubusercontent.com/ikikika/data_science/titanic-kaggle/titanic-kaggle/test.csv')"
      ],
      "execution_count": 22,
      "outputs": []
    },
    {
      "cell_type": "markdown",
      "metadata": {
        "id": "I9HcStffbRhd",
        "colab_type": "text"
      },
      "source": [
        "### Find missing values"
      ]
    },
    {
      "cell_type": "code",
      "metadata": {
        "id": "tei1L2A_a_50",
        "colab_type": "code",
        "colab": {
          "base_uri": "https://localhost:8080/",
          "height": 340
        },
        "outputId": "46f4e337-55ed-4ce9-f313-8ec64b66a1a8"
      },
      "source": [
        "train.info()\n",
        "# From here, we can see that 'Age', 'Cabin' and 'Embarked' has missing values"
      ],
      "execution_count": 23,
      "outputs": [
        {
          "output_type": "stream",
          "text": [
            "<class 'pandas.core.frame.DataFrame'>\n",
            "RangeIndex: 891 entries, 0 to 890\n",
            "Data columns (total 12 columns):\n",
            " #   Column       Non-Null Count  Dtype  \n",
            "---  ------       --------------  -----  \n",
            " 0   PassengerId  891 non-null    int64  \n",
            " 1   Survived     891 non-null    int64  \n",
            " 2   Pclass       891 non-null    int64  \n",
            " 3   Name         891 non-null    object \n",
            " 4   Sex          891 non-null    object \n",
            " 5   Age          714 non-null    float64\n",
            " 6   SibSp        891 non-null    int64  \n",
            " 7   Parch        891 non-null    int64  \n",
            " 8   Ticket       891 non-null    object \n",
            " 9   Fare         891 non-null    float64\n",
            " 10  Cabin        204 non-null    object \n",
            " 11  Embarked     889 non-null    object \n",
            "dtypes: float64(2), int64(5), object(5)\n",
            "memory usage: 83.7+ KB\n"
          ],
          "name": "stdout"
        }
      ]
    },
    {
      "cell_type": "code",
      "metadata": {
        "id": "n6-5PcQlbUXr",
        "colab_type": "code",
        "colab": {
          "base_uri": "https://localhost:8080/",
          "height": 283
        },
        "outputId": "b6114f28-3d10-49cf-9efd-cc42dde0343e"
      },
      "source": [
        "# Plot graphic of missing values\n",
        "missingno.matrix(train, figsize=(30,5))"
      ],
      "execution_count": 24,
      "outputs": [
        {
          "output_type": "execute_result",
          "data": {
            "text/plain": [
              "<matplotlib.axes._subplots.AxesSubplot at 0x7f2eaa3775c0>"
            ]
          },
          "metadata": {
            "tags": []
          },
          "execution_count": 24
        },
        {
          "output_type": "display_data",
          "data": {
            "image/png": "[encoded data removed]",
            "text/plain": [
              "<Figure size 2160x360 with 2 Axes>"
            ]
          },
          "metadata": {
            "tags": []
          }
        }
      ]
    },
    {
      "cell_type": "markdown",
      "metadata": {
        "id": "b2AwTrILbmIH",
        "colab_type": "text"
      },
      "source": [
        "This is another way of visualising missing data.\n",
        "\n",
        "This graph shows the position of the missing values, most of them are in the 'Age' and 'Cabin' columns."
      ]
    },
    {
      "cell_type": "code",
      "metadata": {
        "id": "7rXTE87Zby2N",
        "colab_type": "code",
        "colab": {
          "base_uri": "https://localhost:8080/",
          "height": 238
        },
        "outputId": "62f7edd5-5059-4c66-9827-f50550151789"
      },
      "source": [
        "# Function to show how many missing values there are\n",
        "def find_missing_values(df, columns):\n",
        "  '''\n",
        "  Finds no of rows where certain columns are missing values\n",
        "  :: param df :: = target dataframe\n",
        "  :: param columns :: = list of columns\n",
        "  '''\n",
        "  missing_vals = {}\n",
        "  print('Number of missing or NaN values for each column: ')\n",
        "  df_length = len(df)\n",
        "  for col in columns:\n",
        "    total_column_values = df[col].value_counts().sum()\n",
        "    missing_vals[col] = df_length - total_column_values\n",
        "  return missing_vals\n",
        "\n",
        "find_missing_values(train, columns=train.columns)"
      ],
      "execution_count": 33,
      "outputs": [
        {
          "output_type": "stream",
          "text": [
            "Number of missing or NaN values for each column: \n"
          ],
          "name": "stdout"
        },
        {
          "output_type": "execute_result",
          "data": {
            "text/plain": [
              "{'Age': 177,\n",
              " 'Cabin': 687,\n",
              " 'Embarked': 2,\n",
              " 'Fare': 0,\n",
              " 'Name': 0,\n",
              " 'Parch': 0,\n",
              " 'PassengerId': 0,\n",
              " 'Pclass': 0,\n",
              " 'Sex': 0,\n",
              " 'SibSp': 0,\n",
              " 'Survived': 0,\n",
              " 'Ticket': 0}"
            ]
          },
          "metadata": {
            "tags": []
          },
          "execution_count": 33
        }
      ]
    },
    {
      "cell_type": "code",
      "metadata": {
        "id": "nDqcByxQhUjL",
        "colab_type": "code",
        "colab": {
          "base_uri": "https://localhost:8080/",
          "height": 238
        },
        "outputId": "1e87a1b3-25b1-4d81-d196-2f46785bd292"
      },
      "source": [
        "train.isnull().sum()\n",
        "# In the video, he wrote the above function to get how many null objects in each column. This function will get the same info."
      ],
      "execution_count": 26,
      "outputs": [
        {
          "output_type": "execute_result",
          "data": {
            "text/plain": [
              "PassengerId      0\n",
              "Survived         0\n",
              "Pclass           0\n",
              "Name             0\n",
              "Sex              0\n",
              "Age            177\n",
              "SibSp            0\n",
              "Parch            0\n",
              "Ticket           0\n",
              "Fare             0\n",
              "Cabin          687\n",
              "Embarked         2\n",
              "dtype: int64"
            ]
          },
          "metadata": {
            "tags": []
          },
          "execution_count": 26
        }
      ]
    },
    {
      "cell_type": "markdown",
      "metadata": {
        "id": "BYCYVVR5gn4N",
        "colab_type": "text"
      },
      "source": [
        "## To perform data analysis, create 2 new dataframes\n",
        "Create 1 for exploring discretised continuous variables (continuous variables which can be sorted into some kind of category).\n",
        "* variables that cannot be defined using a sliding scale \n",
        "* variables that has to be categorised or divided into bins\n",
        "* these variables can be assigned numerical values, but only those assigned values have meaning. eg, if we assign red=1 and blue=2, 1 and 2 \n",
        "will have meaning but 1.5 will have no meaning. And also, 2 red (1+1) doesnt equal 1 blue (2).\n",
        "* eg, color, gender, locations\n",
        "\n",
        "Another for exploring continuous variables.\n",
        "* sliding scale values\n",
        "* if we have a scale from 0-100, continuous variables can take any value between 0-100, eg. 0.00001, 3.1415926535\n",
        "* eg, fare, age"
      ]
    },
    {
      "cell_type": "code",
      "metadata": {
        "id": "h2ebOD3HfFrm",
        "colab_type": "code",
        "colab": {}
      },
      "source": [
        "df_bin = pd.DataFrame() # for discretised continuous variables\n",
        "df_con = pd.DataFrame() # for continuous variables"
      ],
      "execution_count": 27,
      "outputs": []
    },
    {
      "cell_type": "markdown",
      "metadata": {
        "id": "JT9kXffxk4Hw",
        "colab_type": "text"
      },
      "source": [
        "### Explore each feature individually"
      ]
    },
    {
      "cell_type": "markdown",
      "metadata": {
        "id": "j8dKoegQk8iI",
        "colab_type": "text"
      },
      "source": [
        "#### Target feature: Survived\n",
        "Description:  whether the passenger survive or not\n",
        "\n",
        "Key: 0=dead, 1=survive.\n",
        "\n",
        "This is the variable we want our machine learning model to predict based off all the others."
      ]
    },
    {
      "cell_type": "code",
      "metadata": {
        "id": "mcPJJ57AlQ0l",
        "colab_type": "code",
        "colab": {
          "base_uri": "https://localhost:8080/",
          "height": 164
        },
        "outputId": "f1ebce47-f6f6-4146-96d8-940eebd44fce"
      },
      "source": [
        "# How many people survived?\n",
        "fig = plt.figure( figsize=(20,1) )\n",
        "sns.countplot( y='Survived', data=train )\n",
        "print( train.Survived.value_counts() )\n",
        "# Tip: We see that more people didnt survive. If our prediction has more survivors, something is wrong."
      ],
      "execution_count": 28,
      "outputs": [
        {
          "output_type": "stream",
          "text": [
            "0    549\n",
            "1    342\n",
            "Name: Survived, dtype: int64\n"
          ],
          "name": "stdout"
        },
        {
          "output_type": "display_data",
          "data": {
            "image/png": "[encoded data removed]",
            "text/plain": [
              "<Figure size 1440x72 with 1 Axes>"
            ]
          },
          "metadata": {
            "tags": []
          }
        }
      ]
    },
    {
      "cell_type": "code",
      "metadata": {
        "id": "NZyTBxIpmSDi",
        "colab_type": "code",
        "colab": {}
      },
      "source": [
        "# Add Survived to our subset dataframes\n",
        "df_bin['Survived'] = train['Survived']\n",
        "df_con['Survived'] = train['Survived']"
      ],
      "execution_count": 29,
      "outputs": []
    },
    {
      "cell_type": "markdown",
      "metadata": {
        "id": "1CS3cFqommbp",
        "colab_type": "text"
      },
      "source": [
        "#### Feature: Pclass\n",
        "Description:  Ticket class of passenger\n",
        "\n",
        "Key: 1=1st, 2=2nd, 3=3rd\n",
        "\n",
        "Look at the distribution of each feature to see if we can understand what kind of spread there is across the dataset.\n",
        "\n",
        "For example, if there are values which are completely outside of the distribution, we may not want to include them in our model."
      ]
    },
    {
      "cell_type": "code",
      "metadata": {
        "id": "IQwKnYVbnEYm",
        "colab_type": "code",
        "colab": {
          "base_uri": "https://localhost:8080/",
          "height": 293
        },
        "outputId": "15154fc2-668f-4e2f-9d4d-2ec63d9836a1"
      },
      "source": [
        "sns.distplot(train.Pclass)"
      ],
      "execution_count": 30,
      "outputs": [
        {
          "output_type": "execute_result",
          "data": {
            "text/plain": [
              "<matplotlib.axes._subplots.AxesSubplot at 0x7f2eaa2ffba8>"
            ]
          },
          "metadata": {
            "tags": []
          },
          "execution_count": 30
        },
        {
          "output_type": "display_data",
          "data": {
            "image/png": "[encoded data removed]",
            "text/plain": [
              "<Figure size 432x288 with 1 Axes>"
            ]
          },
          "metadata": {
            "tags": []
          }
        }
      ]
    },
    {
      "cell_type": "code",
      "metadata": {
        "id": "IaQFQqiPp15B",
        "colab_type": "code",
        "colab": {
          "base_uri": "https://localhost:8080/",
          "height": 34
        },
        "outputId": "60ad840d-c430-482f-d0b7-cca679d1605c"
      },
      "source": [
        "# How many missing values does Pclass have?\n",
        "missing_vals['Pclass']\n",
        "# or train['Pclass'].isnull().sum()"
      ],
      "execution_count": 36,
      "outputs": [
        {
          "output_type": "execute_result",
          "data": {
            "text/plain": [
              "0"
            ]
          },
          "metadata": {
            "tags": []
          },
          "execution_count": 36
        }
      ]
    },
    {
      "cell_type": "code",
      "metadata": {
        "id": "kOLmISvPqhlO",
        "colab_type": "code",
        "colab": {}
      },
      "source": [
        "# Since there are no missing values in Pclass, add to our subset dataframes\n",
        "df_bin['Pclass'] = train['Pclass']\n",
        "df_con['Pclass'] = train['Pclass']"
      ],
      "execution_count": 38,
      "outputs": []
    },
    {
      "cell_type": "code",
      "metadata": {
        "id": "9gSczEfgqtOT",
        "colab_type": "code",
        "colab": {
          "base_uri": "https://localhost:8080/",
          "height": 204
        },
        "outputId": "62c22b78-3867-4855-c663-45080315620b"
      },
      "source": [
        "df_bin.head()"
      ],
      "execution_count": 39,
      "outputs": [
        {
          "output_type": "execute_result",
          "data": {
            "text/html": [
              "<div>\n",
              "<style scoped>\n",
              "    .dataframe tbody tr th:only-of-type {\n",
              "        vertical-align: middle;\n",
              "    }\n",
              "\n",
              "    .dataframe tbody tr th {\n",
              "        vertical-align: top;\n",
              "    }\n",
              "\n",
              "    .dataframe thead th {\n",
              "        text-align: right;\n",
              "    }\n",
              "</style>\n",
              "<table border=\"1\" class=\"dataframe\">\n",
              "  <thead>\n",
              "    <tr style=\"text-align: right;\">\n",
              "      <th></th>\n",
              "      <th>Survived</th>\n",
              "      <th>Pclass</th>\n",
              "    </tr>\n",
              "  </thead>\n",
              "  <tbody>\n",
              "    <tr>\n",
              "      <th>0</th>\n",
              "      <td>0</td>\n",
              "      <td>3</td>\n",
              "    </tr>\n",
              "    <tr>\n",
              "      <th>1</th>\n",
              "      <td>1</td>\n",
              "      <td>1</td>\n",
              "    </tr>\n",
              "    <tr>\n",
              "      <th>2</th>\n",
              "      <td>1</td>\n",
              "      <td>3</td>\n",
              "    </tr>\n",
              "    <tr>\n",
              "      <th>3</th>\n",
              "      <td>1</td>\n",
              "      <td>1</td>\n",
              "    </tr>\n",
              "    <tr>\n",
              "      <th>4</th>\n",
              "      <td>0</td>\n",
              "      <td>3</td>\n",
              "    </tr>\n",
              "  </tbody>\n",
              "</table>\n",
              "</div>"
            ],
            "text/plain": [
              "   Survived  Pclass\n",
              "0         0       3\n",
              "1         1       1\n",
              "2         1       3\n",
              "3         1       1\n",
              "4         0       3"
            ]
          },
          "metadata": {
            "tags": []
          },
          "execution_count": 39
        }
      ]
    },
    {
      "cell_type": "markdown",
      "metadata": {
        "id": "kYHccJs0q0MP",
        "colab_type": "text"
      },
      "source": [
        "#### Feature: Name\n",
        "Description: Name of passenger"
      ]
    },
    {
      "cell_type": "code",
      "metadata": {
        "id": "wnqjjQosrE4k",
        "colab_type": "code",
        "colab": {
          "base_uri": "https://localhost:8080/",
          "height": 34
        },
        "outputId": "6f2ed867-9f17-4072-c693-072ea49e0739"
      },
      "source": [
        "len(train['Name'])\n",
        "# As each name in this dataset is unique, its not efficient for us to use this feature.\n",
        "# Think: Can we reduce the number of names?\n",
        "# Think: Can we correlate the name to survival rate? eg, people named jack are more likely to die than people named rose.\n",
        "# Think: Can we create new feature out of the names? Yes. We can extract the titles (Mr, Mrs, Miss) and form them into another feature (as seen in the other video). We wont do that here."
      ],
      "execution_count": 40,
      "outputs": [
        {
          "output_type": "execute_result",
          "data": {
            "text/plain": [
              "891"
            ]
          },
          "metadata": {
            "tags": []
          },
          "execution_count": 40
        }
      ]
    },
    {
      "cell_type": "markdown",
      "metadata": {
        "id": "7MDDKRXxr0os",
        "colab_type": "text"
      },
      "source": [
        "#### Feature: Sex\n",
        "Description: The gender of the passenger"
      ]
    },
    {
      "cell_type": "code",
      "metadata": {
        "id": "M0Iuny_WsD6x",
        "colab_type": "code",
        "colab": {
          "base_uri": "https://localhost:8080/",
          "height": 162
        },
        "outputId": "637b396e-fc13-4f9b-f349-c51052c1cc4a"
      },
      "source": [
        "# View distribution of Sex\n",
        "fig = plt.figure( figsize=(20,1) )\n",
        "sns.countplot( y='Sex', data=train )\n",
        "print( train.Sex.value_counts() )"
      ],
      "execution_count": 41,
      "outputs": [
        {
          "output_type": "stream",
          "text": [
            "male      577\n",
            "female    314\n",
            "Name: Sex, dtype: int64\n"
          ],
          "name": "stdout"
        },
        {
          "output_type": "display_data",
          "data": {
            "image/png": "[encoded data removed]",
            "text/plain": [
              "<Figure size 1440x72 with 1 Axes>"
            ]
          },
          "metadata": {
            "tags": []
          }
        }
      ]
    },
    {
      "cell_type": "code",
      "metadata": {
        "id": "c7VXyy_-sWnY",
        "colab_type": "code",
        "colab": {
          "base_uri": "https://localhost:8080/",
          "height": 34
        },
        "outputId": "e93ce2a4-423c-4ffe-ee2e-efc6936ed1a6"
      },
      "source": [
        "# Missing values for Sex?\n",
        "missing_vals['Sex']"
      ],
      "execution_count": 42,
      "outputs": [
        {
          "output_type": "execute_result",
          "data": {
            "text/plain": [
              "0"
            ]
          },
          "metadata": {
            "tags": []
          },
          "execution_count": 42
        }
      ]
    },
    {
      "cell_type": "code",
      "metadata": {
        "id": "_6QZBWnfseG1",
        "colab_type": "code",
        "colab": {}
      },
      "source": [
        "# No missing values, we can add them to our subset dataframe.\n",
        "\n",
        "df_bin['Sex'] = train['Sex']\n",
        "\n",
        "# Convert the labels to numerical values (male=0, female=1)\n",
        "df_bin['Sex'] = np.where( df_bin['Sex'] == 'female', 1, 0 )\n",
        "\n",
        "df_con['Sex'] = train['Sex']\n",
        "df_con['Sex'] = np.where( df_con['Sex'] == 'female', 1, 0 )"
      ],
      "execution_count": 49,
      "outputs": []
    },
    {
      "cell_type": "code",
      "metadata": {
        "id": "jU9iC3aEtdkz",
        "colab_type": "code",
        "colab": {
          "base_uri": "https://localhost:8080/",
          "height": 204
        },
        "outputId": "4687fcf6-f60b-4203-e0ee-2065216be5f9"
      },
      "source": [
        "df_con.head()"
      ],
      "execution_count": 50,
      "outputs": [
        {
          "output_type": "execute_result",
          "data": {
            "text/html": [
              "<div>\n",
              "<style scoped>\n",
              "    .dataframe tbody tr th:only-of-type {\n",
              "        vertical-align: middle;\n",
              "    }\n",
              "\n",
              "    .dataframe tbody tr th {\n",
              "        vertical-align: top;\n",
              "    }\n",
              "\n",
              "    .dataframe thead th {\n",
              "        text-align: right;\n",
              "    }\n",
              "</style>\n",
              "<table border=\"1\" class=\"dataframe\">\n",
              "  <thead>\n",
              "    <tr style=\"text-align: right;\">\n",
              "      <th></th>\n",
              "      <th>Survived</th>\n",
              "      <th>Pclass</th>\n",
              "      <th>Sex</th>\n",
              "    </tr>\n",
              "  </thead>\n",
              "  <tbody>\n",
              "    <tr>\n",
              "      <th>0</th>\n",
              "      <td>0</td>\n",
              "      <td>3</td>\n",
              "      <td>0</td>\n",
              "    </tr>\n",
              "    <tr>\n",
              "      <th>1</th>\n",
              "      <td>1</td>\n",
              "      <td>1</td>\n",
              "      <td>1</td>\n",
              "    </tr>\n",
              "    <tr>\n",
              "      <th>2</th>\n",
              "      <td>1</td>\n",
              "      <td>3</td>\n",
              "      <td>1</td>\n",
              "    </tr>\n",
              "    <tr>\n",
              "      <th>3</th>\n",
              "      <td>1</td>\n",
              "      <td>1</td>\n",
              "      <td>1</td>\n",
              "    </tr>\n",
              "    <tr>\n",
              "      <th>4</th>\n",
              "      <td>0</td>\n",
              "      <td>3</td>\n",
              "      <td>0</td>\n",
              "    </tr>\n",
              "  </tbody>\n",
              "</table>\n",
              "</div>"
            ],
            "text/plain": [
              "   Survived  Pclass  Sex\n",
              "0         0       3    0\n",
              "1         1       1    1\n",
              "2         1       3    1\n",
              "3         1       1    1\n",
              "4         0       3    0"
            ]
          },
          "metadata": {
            "tags": []
          },
          "execution_count": 50
        }
      ]
    },
    {
      "cell_type": "code",
      "metadata": {
        "id": "wNLVaV-Gtvjr",
        "colab_type": "code",
        "colab": {
          "base_uri": "https://localhost:8080/",
          "height": 619
        },
        "outputId": "7fb26941-9be1-4ad1-c7d7-229e75f3edd4"
      },
      "source": [
        "# Compare Sex with Survived\n",
        "fig = plt.figure( figsize=(10,10) )\n",
        "sns.distplot( df_bin.loc[ df_bin['Survived'] == 1 ]['Sex'], kde_kws={'label': 'Survived'} )\n",
        "sns.distplot( df_bin.loc[ df_bin['Survived'] == 0 ]['Sex'], kde_kws={'label': 'Dead'} )"
      ],
      "execution_count": 55,
      "outputs": [
        {
          "output_type": "execute_result",
          "data": {
            "text/plain": [
              "<matplotlib.axes._subplots.AxesSubplot at 0x7f2ea9f7c550>"
            ]
          },
          "metadata": {
            "tags": []
          },
          "execution_count": 55
        },
        {
          "output_type": "display_data",
          "data": {
            "image/png": "[encoded data removed]",
            "text/plain": [
              "<Figure size 720x720 with 1 Axes>"
            ]
          },
          "metadata": {
            "tags": []
          }
        }
      ]
    },
    {
      "cell_type": "markdown",
      "metadata": {
        "id": "TSA9WxZnvPXQ",
        "colab_type": "text"
      },
      "source": [
        "Not many people survived. But those who did, most of them are females."
      ]
    },
    {
      "cell_type": "markdown",
      "metadata": {
        "id": "bkr2ivNmvWjL",
        "colab_type": "text"
      },
      "source": [
        "#### Feature: Age\n",
        "Description: Age of passenger"
      ]
    },
    {
      "cell_type": "code",
      "metadata": {
        "id": "l9vHCnJmvcI6",
        "colab_type": "code",
        "colab": {
          "base_uri": "https://localhost:8080/",
          "height": 34
        },
        "outputId": "cad034cb-3b91-4bb0-eade-dbf68739e1ac"
      },
      "source": [
        "# Missing values for Age?\n",
        "missing_vals['Age']\n",
        "\n",
        "# 177 missing values for age\n",
        "# Think: How can we fill in the missing values?\n",
        "# For this exercise, we wont use this feature. \n",
        "# We did fill in the missing values for the other video."
      ],
      "execution_count": 56,
      "outputs": [
        {
          "output_type": "execute_result",
          "data": {
            "text/plain": [
              "177"
            ]
          },
          "metadata": {
            "tags": []
          },
          "execution_count": 56
        }
      ]
    },
    {
      "cell_type": "markdown",
      "metadata": {
        "id": "jXQ6lfSjwJ2H",
        "colab_type": "text"
      },
      "source": [
        "#### Feature: SibSp\n",
        "Description: The number of siblings/spouses the passenger has on board."
      ]
    },
    {
      "cell_type": "code",
      "metadata": {
        "id": "Jw_n9-BKwUA3",
        "colab_type": "code",
        "colab": {
          "base_uri": "https://localhost:8080/",
          "height": 34
        },
        "outputId": "88ae8d1b-4a28-4eae-9e1c-c0a961a72269"
      },
      "source": [
        "# Missing values for SibSp?\n",
        "missing_vals['SibSp']"
      ],
      "execution_count": 57,
      "outputs": [
        {
          "output_type": "execute_result",
          "data": {
            "text/plain": [
              "0"
            ]
          },
          "metadata": {
            "tags": []
          },
          "execution_count": 57
        }
      ]
    },
    {
      "cell_type": "code",
      "metadata": {
        "id": "ejSsODWlwde2",
        "colab_type": "code",
        "colab": {
          "base_uri": "https://localhost:8080/",
          "height": 153
        },
        "outputId": "9246797f-ae92-4fe7-95d1-4b17d952220f"
      },
      "source": [
        "# Value coutns for SibSp\n",
        "train.SibSp.value_counts()"
      ],
      "execution_count": 59,
      "outputs": [
        {
          "output_type": "execute_result",
          "data": {
            "text/plain": [
              "0    608\n",
              "1    209\n",
              "2     28\n",
              "4     18\n",
              "3     16\n",
              "8      7\n",
              "5      5\n",
              "Name: SibSp, dtype: int64"
            ]
          },
          "metadata": {
            "tags": []
          },
          "execution_count": 59
        }
      ]
    }
  ]
}